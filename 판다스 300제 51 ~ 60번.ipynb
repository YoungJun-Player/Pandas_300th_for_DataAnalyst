{
 "cells": [
  {
   "cell_type": "code",
   "execution_count": null,
   "metadata": {},
   "outputs": [],
   "source": [
    "import numpy as np\n",
    "import pandas as pd"
   ]
  },
  {
   "cell_type": "markdown",
   "metadata": {},
   "source": [
    "# 051\n",
    "\n",
    "모듈 임포트\n",
    "\n",
    "판다스의 시리즈 클래스를 사용하기 위해 주로 사용하는 두 가지 방식으로 임포트해보세요."
   ]
  },
  {
   "cell_type": "code",
   "execution_count": null,
   "metadata": {},
   "outputs": [],
   "source": [
    "import pandas as pd\n",
    "from pandas import Series"
   ]
  },
  {
   "cell_type": "markdown",
   "metadata": {},
   "source": [
    "# 052\n",
    "\n",
    "시리즈의 생성 (리스트)\n",
    "\n",
    "다음 데이터를 시리즈로 객체로 생성해보세요.\n",
    "\n",
    "점수\n",
    "100\n",
    "200\n",
    "300"
   ]
  },
  {
   "cell_type": "code",
   "execution_count": 11,
   "metadata": {},
   "outputs": [],
   "source": [
    "data = [100,200,300]\n",
    "\n",
    "s = Series(data)"
   ]
  },
  {
   "cell_type": "markdown",
   "metadata": {},
   "source": [
    "# 053\n",
    "\n",
    "시리즈의 생성 (인덱스 지정)\n",
    "\n",
    "생성된 시리즈 객체에 인덱스를 추가해보세요.\n",
    "\n",
    "인덱스\t점수\n",
    "철수\t100\n",
    "영희\t200\n",
    "아름\t300"
   ]
  },
  {
   "cell_type": "code",
   "execution_count": 12,
   "metadata": {},
   "outputs": [],
   "source": [
    "index = ['철수', '영희', '아름']\n",
    "data = [100, 200, 300]\n",
    "\n",
    "s = Series(index,data)"
   ]
  },
  {
   "cell_type": "markdown",
   "metadata": {},
   "source": [
    "# 054\n",
    "\n",
    "시리즈의 생성 (딕셔너리)\n",
    "\n",
    "다음 데이터를 파이썬 딕셔너리로 표현해보세요. 딕셔너리의 key로 인덱스를 value로 점수 컬럼을 지정하세요. 생성된 딕셔너리를 사용하여 시리즈 객체를 생성해봅시다.\n",
    "\n",
    "인덱스\t점수\n",
    "철수\t100\n",
    "영희\t200\n",
    "아름\t300"
   ]
  },
  {
   "cell_type": "code",
   "execution_count": 13,
   "metadata": {},
   "outputs": [],
   "source": [
    "data = {\n",
    "    \"철수\" : 100,\n",
    "    \"영희\" : 200,\n",
    "    \"아름\" : 300\n",
    "}\n",
    "\n",
    "s = Series(data)"
   ]
  },
  {
   "cell_type": "markdown",
   "metadata": {},
   "source": [
    "# 055\n",
    "\n",
    "시리즈 생성\n",
    "\n",
    "다음은 네이버 금융에서 특정 거래일의 인기 종목과 해당 종목의 종가 데이터입니다. 종목명을 인덱스로 하여 종가를 데이터로 지정하여 시리즈 객체를 생성해봅시다.\n",
    "\n",
    "종목명\t종가\n",
    "삼성전자\t73000\n",
    "셀트리온\t356000\n",
    "카카오\t367000\n",
    "삼성전자우\t68600\n",
    "현대바이오\t34150\n"
   ]
  },
  {
   "cell_type": "code",
   "execution_count": 15,
   "metadata": {},
   "outputs": [],
   "source": [
    "data = {\n",
    "    \"삼성전자\" : 73000,\n",
    "    \"셀트리온\" : 356000,\n",
    "    \"카카오\" : 367000,\n",
    "    \"삼성전자우\" : 68600,\n",
    "    \"현대바이오\" : 34150\n",
    "}\n",
    "\n",
    "s = Series(data)"
   ]
  },
  {
   "cell_type": "markdown",
   "metadata": {},
   "source": [
    "# 056\n",
    "\n",
    "시리즈 인덱스\n",
    "\n",
    "시리즈에 저장된 인덱스만을 출력해보세요.\n",
    "\n",
    "data = [100, 200, 300]\n",
    "index = [\"철수\", \"영희\", \"아름\"]\n",
    "s = Series(data, index)"
   ]
  },
  {
   "cell_type": "code",
   "execution_count": null,
   "metadata": {},
   "outputs": [],
   "source": [
    "data = [100, 200, 300]\n",
    "index = [\"철수\", \"영희\", \"아름\"]\n",
    "s = Series(data, index)\n",
    "\n",
    "print(s.index)"
   ]
  },
  {
   "cell_type": "markdown",
   "metadata": {},
   "source": [
    "# 057\n",
    "\n",
    "시리즈 데이터\n",
    "\n",
    "인덱스 없이 시리즈에 저장된 데이터만을 출력해보세요.\n",
    "\n",
    "data = [100, 200, 300]\n",
    "index = [\"철수\", \"영희\", \"아름\"]\n",
    "s = Series(data, index)\n",
    "[100 200 300 400 500 600]"
   ]
  },
  {
   "cell_type": "code",
   "execution_count": null,
   "metadata": {},
   "outputs": [],
   "source": [
    "data = [100, 200, 300]\n",
    "index = [\"철수\", \"영희\", \"아름\"]\n",
    "s = Series(data, index)\n",
    "\n",
    "print(s.values)"
   ]
  },
  {
   "cell_type": "markdown",
   "metadata": {},
   "source": [
    "# 058\n",
    "\n",
    "시리즈와 딕셔너리\n",
    "\n",
    "시리즈를 딕셔너리로 변경해 보세요.\n",
    "\n",
    "data = [100, 200, 300]\n",
    "index = [\"철수\", \"영희\", \"아름\"]\n",
    "s = Series(data, index)\n",
    "\n",
    "실행 결과\n",
    "\n",
    "{'철수': 100, '영희': 200, '아름': 300}"
   ]
  },
  {
   "cell_type": "code",
   "execution_count": null,
   "metadata": {},
   "outputs": [],
   "source": [
    "s1 = s.to_dict()"
   ]
  },
  {
   "cell_type": "markdown",
   "metadata": {},
   "source": [
    "# 059\n",
    "\n",
    "시리즈와 엑셀\n",
    "\n",
    "시리즈를 엑셀 파일(data.xlsx)에 저장해 보세요.\n",
    "\n",
    "data = [100, 200, 300]\n",
    "index = [\"철수\", \"영희\", \"아름\"]\n",
    "s = Series(data, index)\n",
    "\n",
    "실행 결과\n",
    "엑셀 파일 상태"
   ]
  },
  {
   "cell_type": "code",
   "execution_count": null,
   "metadata": {},
   "outputs": [],
   "source": [
    "s1 = s.to_excel"
   ]
  },
  {
   "cell_type": "markdown",
   "metadata": {},
   "source": [
    "# 060\n",
    "\n",
    "시리즈와 엑셀\n",
    "\n",
    "엑셀 파일(data.xlsx)을 읽어 오세요.\n",
    "\n",
    "pd.read_excel\n",
    "실행 결과\n",
    "\n",
    "철수    100\n",
    "영희    200\n",
    "아름    300\n",
    "Name: 0, dtype: int64"
   ]
  },
  {
   "cell_type": "code",
   "execution_count": 22,
   "metadata": {},
   "outputs": [
    {
     "data": {
      "text/plain": [
       "array([1, 2, 3, 4])"
      ]
     },
     "execution_count": 22,
     "metadata": {},
     "output_type": "execute_result"
    }
   ],
   "source": [
    "arr = np.array([ [1, 2], [3, 4] ])\n",
    "\n",
    "pd.read_excel(data.xlsx)"
   ]
  }
 ],
 "metadata": {
  "kernelspec": {
   "display_name": "yeardream",
   "language": "python",
   "name": "python3"
  },
  "language_info": {
   "codemirror_mode": {
    "name": "ipython",
    "version": 3
   },
   "file_extension": ".py",
   "mimetype": "text/x-python",
   "name": "python",
   "nbconvert_exporter": "python",
   "pygments_lexer": "ipython3",
   "version": "3.12.1"
  }
 },
 "nbformat": 4,
 "nbformat_minor": 2
}
