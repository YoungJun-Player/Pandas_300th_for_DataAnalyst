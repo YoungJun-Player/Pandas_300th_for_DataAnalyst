{
 "cells": [
  {
   "cell_type": "code",
   "execution_count": 1,
   "metadata": {},
   "outputs": [],
   "source": [
    "import numpy as np\n",
    "import pandas as pd"
   ]
  },
  {
   "cell_type": "markdown",
   "metadata": {},
   "source": [
    "# 181\n",
    "\n",
    "DataFrame 생성\n",
    "다음 그림과 같은 데이터프레임을 생성하세요.\n",
    "\n"
   ]
  },
  {
   "cell_type": "code",
   "execution_count": null,
   "metadata": {},
   "outputs": [],
   "source": [
    "data =[\n",
    "    ['Multiples', 'PER', 21.09, 13.55],\n",
    "    ['Multiples', 'PBR', 2.06, 1.80],\n",
    "    ['Dividends', 'DPS', 2944, 1444],\n",
    "    ['Dividends', '배당성향', 78, 25]    \n",
    "]\n",
    "\n",
    "columns = ['Category', 'Factor', 2020, 2021]\n",
    "\n",
    "df = pd.DataFrame(data, columns=columns)"
   ]
  },
  {
   "cell_type": "markdown",
   "metadata": {},
   "source": [
    "# 182\n",
    "\n",
    "DataFrame.set_index (멀티인덱스)\n",
    "\n",
    "위 데이터프레임에서 set_index 메서드를 사용해서 'Category' 컬럼과 'Factor' 컬럼을 MultiIndex로 설정하세요."
   ]
  },
  {
   "cell_type": "code",
   "execution_count": null,
   "metadata": {},
   "outputs": [],
   "source": [
    "df.set_index(['Category', \"Factor\"])"
   ]
  },
  {
   "cell_type": "markdown",
   "metadata": {},
   "source": [
    "# 183\n",
    "\n",
    "pandas.MultiIndex.from_tuples (로우방향 저장)\n",
    "MultiIndex의 from_tuples 메서드를 사용해서 tuples를 MultiIndex 객체로 생성하세요. 멀티 인덱스의 이름은 ['number', 'color']로 지정하세요.\n",
    "\n",
    "import pandas as pd\n",
    "\n",
    "tuples = [\n",
    "    ('Multiples', 'PER'),\n",
    "    ('Multiples', 'PBR'),\n",
    "    ('Dividends', 'DPS'),\n",
    "    ('Dividends', '배당성향')\n",
    "]\n"
   ]
  },
  {
   "cell_type": "code",
   "execution_count": null,
   "metadata": {},
   "outputs": [],
   "source": [
    "index = pd.MultiIndex.from_tuples(tuples, names=['number', 'color'])"
   ]
  },
  {
   "cell_type": "markdown",
   "metadata": {},
   "source": [
    "# 184\n",
    "\n",
    "pandas.MultiIndex.from_arrays (컬럼방향 저장)\n",
    "\n",
    "MultiIndex의 from_arrays 메서드를 사용해서 파이썬 이중 리스트를 MultiIndex 객체로 생성하세요. 멀티 인덱스의 이름은 ['number', 'color']로 지정하세요.\n",
    "\n",
    "import pandas as pd\n",
    "\n",
    "arrays = [\n",
    "    ['Mutiples', 'Multiples', 'Dividends', 'Dividends'],\n",
    "    ['PER', 'PBR', 'DPS', '배당성향']\n",
    "]"
   ]
  },
  {
   "cell_type": "code",
   "execution_count": null,
   "metadata": {},
   "outputs": [],
   "source": [
    "index = pd.MultiIndex.from_arrays(tuples, names=['number', 'color'])"
   ]
  },
  {
   "cell_type": "markdown",
   "metadata": {},
   "source": [
    "# 185\n",
    "\n",
    "pandas.MultiIndex\n",
    "\n",
    "tuples 변수가 바인딩하는 리스트로부터 먼저 MultiIndex 객체를 생성한 후 데이터프레임 객체를 생성하세요.\n",
    "\n",
    "import pandas as pd\n",
    "\n",
    "tuples = [\n",
    "    ('Multiples', 'PER'),\n",
    "    ('Multiples', 'PBR'),\n",
    "    ('Dividends', 'DPS'),\n",
    "    ('Dividends', '배당성향')\n",
    "]\n",
    "\n",
    "\n",
    "data = [\n",
    "    [21.09, 13.55],\n",
    "    [2.06, 1.80],\n",
    "    [2944, 1444],\n",
    "    [78, 25]\n",
    "]\n",
    "\n",
    "columns = [2020, 2021]\n"
   ]
  },
  {
   "cell_type": "code",
   "execution_count": null,
   "metadata": {},
   "outputs": [],
   "source": [
    "index = pd.MultiIndex.from_tuples(tuples, names=['Category', 'Factor'])\n",
    "df = pd.DataFrame(data=data, index=index, columns=columns)"
   ]
  },
  {
   "cell_type": "markdown",
   "metadata": {},
   "source": [
    "# 186\n",
    "\n",
    "MultiIndex 인덱싱\n",
    "\n",
    "다음 데이터프레임에서 빨간색 영역을 선택하세요.\n",
    "\n",
    "\n",
    "\n",
    "import pandas as pd\n",
    "\n",
    "tuples = [\n",
    "    ('Multiples', 'PER'),\n",
    "    ('Multiples', 'PBR'),\n",
    "    ('Dividends', 'DPS'),\n",
    "    ('Dividends', '배당성향')\n",
    "]\n",
    "\n",
    "\n",
    "data = [\n",
    "    [21.09, 13.55],\n",
    "    [2.06, 1.80],\n",
    "    [2944, 1444],\n",
    "    [78, 25]\n",
    "]\n",
    "\n",
    "columns = [2020, 2021]\n",
    "\n",
    "index = pd.MultiIndex.from_tuples(tuples, names=['Category', 'Factor'])\n",
    "df = pd.DataFrame(data=data, index=index, columns=columns)"
   ]
  },
  {
   "cell_type": "code",
   "execution_count": null,
   "metadata": {},
   "outputs": [],
   "source": [
    "df.loc['Muliples']"
   ]
  },
  {
   "cell_type": "markdown",
   "metadata": {},
   "source": [
    "# 187\n",
    "\n",
    "pandas.MultiIndex 인덱싱\n",
    "\n",
    "위 데이터프레임에서 loc 속성을 이용해 Multiples의 PER 로우만 선택하세요."
   ]
  },
  {
   "cell_type": "code",
   "execution_count": null,
   "metadata": {},
   "outputs": [],
   "source": [
    "df.loc[('Muliples','per')]"
   ]
  },
  {
   "cell_type": "markdown",
   "metadata": {},
   "source": [
    "# 188\n",
    "\n",
    "pandas.MultiIndex 인덱싱 (iloc)\n",
    "위 데이터프레임에서 iloc 속성을 이용해 Multiples의 PER 로우만 선택하세요."
   ]
  },
  {
   "cell_type": "code",
   "execution_count": null,
   "metadata": {},
   "outputs": [],
   "source": [
    "df.iloc[0]"
   ]
  },
  {
   "cell_type": "markdown",
   "metadata": {},
   "source": [
    "# 189\n",
    "\n",
    "pandas.MultiIndex 인덱싱 loc\n",
    "위 데이터프레임에서 loc 속성을 사용하여 2020년 PER 값을 출력해보세요."
   ]
  },
  {
   "cell_type": "code",
   "execution_count": null,
   "metadata": {},
   "outputs": [],
   "source": [
    "print(df.loc[('Multiples', 'PER'), 2020])"
   ]
  },
  {
   "cell_type": "markdown",
   "metadata": {},
   "source": [
    "# 190\n",
    "\n",
    "DataFrame.sort_index\n",
    "\n",
    "위 데이터프레임을 sort_index 메서드를 사용해서 인덱스를 정렬하세요."
   ]
  },
  {
   "cell_type": "code",
   "execution_count": null,
   "metadata": {},
   "outputs": [],
   "source": [
    "df.sort_index()"
   ]
  }
 ],
 "metadata": {
  "kernelspec": {
   "display_name": "yeardream",
   "language": "python",
   "name": "python3"
  },
  "language_info": {
   "codemirror_mode": {
    "name": "ipython",
    "version": 3
   },
   "file_extension": ".py",
   "mimetype": "text/x-python",
   "name": "python",
   "nbconvert_exporter": "python",
   "pygments_lexer": "ipython3",
   "version": "3.9.19"
  }
 },
 "nbformat": 4,
 "nbformat_minor": 2
}
