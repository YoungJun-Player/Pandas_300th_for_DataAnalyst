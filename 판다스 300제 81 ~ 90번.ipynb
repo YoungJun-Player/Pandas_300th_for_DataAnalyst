{
 "cells": [
  {
   "cell_type": "code",
   "execution_count": null,
   "metadata": {},
   "outputs": [],
   "source": [
    "import numpy as np\n",
    "import pandas as pd"
   ]
  },
  {
   "cell_type": "markdown",
   "metadata": {},
   "source": [
    "# 081\n",
    "\n",
    "시리즈 추가\n",
    "\n",
    "시리즈에 순이 인덱스에 400을 추가하라.\n",
    "\n",
    "data = [100, 200, 300]\n",
    "index = [\"철수\", \"영희\", \"아름\"]\n",
    "s = Series(data, index)"
   ]
  },
  {
   "cell_type": "code",
   "execution_count": null,
   "metadata": {},
   "outputs": [],
   "source": [
    "s.loc['순이'] = 400"
   ]
  },
  {
   "cell_type": "markdown",
   "metadata": {},
   "source": [
    "# 082\n",
    "\n",
    "시리즈 삭제\n",
    "\n",
    "시리즈에 철수를 삭제하라.\n",
    "\n",
    "data = [100, 200, 300]\n",
    "index = [\"철수\", \"영희\", \"아름\"]\n",
    "s = Series(data, index)"
   ]
  },
  {
   "cell_type": "code",
   "execution_count": 11,
   "metadata": {},
   "outputs": [],
   "source": [
    "s.drop('철수')"
   ]
  },
  {
   "cell_type": "markdown",
   "metadata": {},
   "source": [
    "# 083\n",
    "\n",
    "시리즈 삭제 (inplace)\n",
    "\n",
    "시리즈 객체에서 drop 메소드를 사용하여 철수를 삭제하세요. 이때 drop 메소드의 인자로 inplace=True를 사용해보고 그 의미를 설명해보세요.\n",
    "\n",
    "data = [100, 200, 300]\n",
    "index = [\"철수\", \"영희\", \"아름\"]\n",
    "s = Series(data, index)"
   ]
  },
  {
   "cell_type": "code",
   "execution_count": 12,
   "metadata": {},
   "outputs": [],
   "source": [
    "s.drop('철수', inplace = True)"
   ]
  },
  {
   "cell_type": "markdown",
   "metadata": {},
   "source": [
    "# 084\n",
    "\n",
    "unique\n",
    "\n",
    "다음 시리즈 객체는 주식 종목별 업종을 나타냅니다. 업종 중 중복적인 값을 제외한 값을 출력해보세요.\n",
    "\n",
    "from pandas import Series\n",
    "\n",
    "data = {\n",
    "    \"삼성전자\": \"전기,전자\",\n",
    "    \"LG전자\": \"전기,전자\",\n",
    "    \"현대차\": \"운수장비\",\n",
    "    \"NAVER\": \"서비스업\",\n",
    "    \"카카오\": \"서비스업\"\n",
    "}\n",
    "s = Series(data)"
   ]
  },
  {
   "cell_type": "code",
   "execution_count": 13,
   "metadata": {},
   "outputs": [],
   "source": [
    "s.unique"
   ]
  },
  {
   "cell_type": "markdown",
   "metadata": {},
   "source": [
    "# 085\n",
    "\n",
    "unique\n",
    "\n",
    "다음 시리즈 객체는 파이스탁 출판사의 저녁 식대 지출 내역입니다. 식대 금액에 대해서 중복적인 값을 제외한 값만 출력해보세요.\n",
    "\n",
    "import pandas as pd\n",
    "\n",
    "s = pd.Series(\n",
    "    data = [9000, 9000, 8000, 9000, 10000],\n",
    "    index = ['김과장', '이대리', '박전무', '이대리', '이대리']\n",
    ")\n"
   ]
  },
  {
   "cell_type": "code",
   "execution_count": 15,
   "metadata": {},
   "outputs": [],
   "source": [
    "s.unique()"
   ]
  },
  {
   "cell_type": "markdown",
   "metadata": {},
   "source": [
    "# 086\n",
    "\n",
    "unique\n",
    "\n",
    "다음 시리즈 객체는 파이스탁 출판사의 저녁 식대 지출 내역입니다. 한 번이라도 야근한 직원들의 명부를 출력해보세요.\n",
    "\n",
    "import pandas as pd\n",
    "\n",
    "s = pd.Series(\n",
    "    data = [9000, 9000, 8000, 9000, 10000],\n",
    "    index = ['김과장', '이대리', '박전무', '이대리', '이대리']\n",
    ")"
   ]
  },
  {
   "cell_type": "code",
   "execution_count": null,
   "metadata": {},
   "outputs": [],
   "source": [
    "s.index.unique()"
   ]
  },
  {
   "cell_type": "markdown",
   "metadata": {},
   "source": [
    "# 087\n",
    "\n",
    "value_counts\n",
    "\n",
    "다음 시리즈 객체는 파이스탁 출판사의 저녁 식대 지출 내역입니다. 식대 금액별로 횟수를 출력해보세요.\n",
    "\n",
    "import pandas as pd\n",
    "\n",
    "s = pd.Series(\n",
    "    data = [9000, 9000, 8000, 9000, 10000],\n",
    "    index = ['김과장', '이대리', '박전무', '이대리', '이대리']\n",
    ")"
   ]
  },
  {
   "cell_type": "code",
   "execution_count": null,
   "metadata": {},
   "outputs": [],
   "source": [
    "s.value_counts()"
   ]
  },
  {
   "cell_type": "markdown",
   "metadata": {},
   "source": [
    "# 088\n",
    "\n",
    "value_counts\n",
    "\n",
    "다음 시리즈 객체는 파이스탁 출판사의 저녁 식대 지출 내역입니다. 직원별 야근 회수를 출력해보세요.\n",
    "\n",
    "import pandas as pd\n",
    "\n",
    "s = pd.Series(\n",
    "    data = [9000, 9000, 8000, 9000, 10000],\n",
    "    index = ['김과장', '이대리', '박전무', '이대리', '이대리']\n",
    ")"
   ]
  },
  {
   "cell_type": "code",
   "execution_count": null,
   "metadata": {},
   "outputs": [],
   "source": [
    "s.index.value_counts()"
   ]
  },
  {
   "cell_type": "markdown",
   "metadata": {},
   "source": [
    "# 089\n",
    "\n",
    "value_counts\n",
    "\n",
    "다음 시리즈 객체는 종목에 대한 업종 정보를 표현합니다. 업종별 발생 횟수를 출력해보세요.\n",
    "\n",
    "from pandas import Series\n",
    "\n",
    "data = {\n",
    "    \"삼성전자\": \"전기,전자\",\n",
    "    \"LG전자\": \"전기,전자\",\n",
    "    \"현대차\": \"운수장비\",\n",
    "    \"NAVER\": \"서비스업\",\n",
    "    \"카카오\": \"서비스업\"\n",
    "}\n",
    "s = Series(data)"
   ]
  },
  {
   "cell_type": "code",
   "execution_count": null,
   "metadata": {},
   "outputs": [],
   "source": [
    "s.value_counts()"
   ]
  },
  {
   "cell_type": "markdown",
   "metadata": {},
   "source": [
    "# 090\n",
    "\n",
    "missing data\n",
    "\n",
    "아래 표는 어떤 회사의 재무제표의 일부 항목입니다. 다음 표를 판다스 시리즈 객체로 생성하세요. PER 값이 존재하지 않는데 이를 numpy 모듈의 nan 타입을 사용해서 표현하면 됩니다.\n",
    "\n",
    "항목\t값\n",
    "매출액\t300\n",
    "PER\tN/A\n",
    "PBR\t2.0"
   ]
  },
  {
   "cell_type": "code",
   "execution_count": null,
   "metadata": {},
   "outputs": [],
   "source": [
    "data = {\n",
    "    '매출액': 300,\n",
    "    'PER': np.nan,\n",
    "    'PBR': 2.0\n",
    "}\n",
    "\n",
    "series = pd.Series(data)"
   ]
  }
 ],
 "metadata": {
  "kernelspec": {
   "display_name": "yeardream",
   "language": "python",
   "name": "python3"
  },
  "language_info": {
   "codemirror_mode": {
    "name": "ipython",
    "version": 3
   },
   "file_extension": ".py",
   "mimetype": "text/x-python",
   "name": "python",
   "nbconvert_exporter": "python",
   "pygments_lexer": "ipython3",
   "version": "3.12.1"
  }
 },
 "nbformat": 4,
 "nbformat_minor": 2
}
