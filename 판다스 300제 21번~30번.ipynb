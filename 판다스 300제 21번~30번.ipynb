{
 "cells": [
  {
   "cell_type": "code",
   "execution_count": 2,
   "metadata": {},
   "outputs": [],
   "source": [
    "import numpy as np"
   ]
  },
  {
   "cell_type": "markdown",
   "metadata": {},
   "source": [
    "# 021\n",
    "\n",
    "astype\n",
    "\n",
    "arr 배열은 float64 타입입니다. 이를 np.int32 타입으로 변경하세요.\n",
    "\n",
    "import numpy as np\n",
    "\n",
    "arr = np.array([1.1, 2.1, 3.1])"
   ]
  },
  {
   "cell_type": "code",
   "execution_count": 3,
   "metadata": {},
   "outputs": [],
   "source": [
    "import numpy as np\n",
    "\n",
    "arr = np.array([1.1, 2.1, 3.1])\n",
    "\n",
    "arr1 = arr.astype(np.int32)"
   ]
  },
  {
   "cell_type": "markdown",
   "metadata": {},
   "source": [
    "# 022\n",
    "\n",
    "linspace\n",
    "\n",
    "0~10 사이를 구간을 20개의 포인트로 분할한 결과를 ndarray로 표현하라.\n",
    "\n",
    "array([ 0.        ,  0.52631579,  1.05263158,  1.57894737,  2.10526316,\n",
    "        2.63157895,  3.15789474,  3.68421053,  4.21052632,  4.73684211,\n",
    "        5.26315789,  5.78947368,  6.31578947,  6.84210526,  7.36842105,\n",
    "        7.89473684,  8.42105263,  8.94736842,  9.47368421, 10.        ])"
   ]
  },
  {
   "cell_type": "code",
   "execution_count": 4,
   "metadata": {},
   "outputs": [
    {
     "data": {
      "text/plain": [
       "array([ 0.        ,  0.52631579,  1.05263158,  1.57894737,  2.10526316,\n",
       "        2.63157895,  3.15789474,  3.68421053,  4.21052632,  4.73684211,\n",
       "        5.26315789,  5.78947368,  6.31578947,  6.84210526,  7.36842105,\n",
       "        7.89473684,  8.42105263,  8.94736842,  9.47368421, 10.        ])"
      ]
     },
     "execution_count": 4,
     "metadata": {},
     "output_type": "execute_result"
    }
   ],
   "source": [
    "\n",
    "np.linspace(0,10,20)"
   ]
  },
  {
   "cell_type": "markdown",
   "metadata": {},
   "source": [
    "# 023\n",
    "\n",
    "로우 인덱싱\n",
    "\n",
    "다음의 ndarry 객체에서 마지막 로우([6, 7, 8])을 출력하세요.\n",
    "\n",
    "> arr = np.arange(9).reshape(3, 3)\n",
    "\n",
    "> arr\n",
    "[[0 1 2]\n",
    " [3 4 5]\n",
    " [6 7 8]]"
   ]
  },
  {
   "cell_type": "code",
   "execution_count": 13,
   "metadata": {},
   "outputs": [
    {
     "data": {
      "text/plain": [
       "array([6, 7, 8])"
      ]
     },
     "execution_count": 13,
     "metadata": {},
     "output_type": "execute_result"
    }
   ],
   "source": [
    "arr = np.arange(9).reshape(3, 3)\n",
    "arr[2,:]"
   ]
  },
  {
   "cell_type": "markdown",
   "metadata": {},
   "source": [
    "# 024\n",
    "\n",
    "컬럼 인덱싱\n",
    "\n",
    "다음의 ndarry 객체에서 두 번째 컬럼([1, 4, 7])을 출력하세요.\n",
    "\n",
    "> arr = np.arange(9).reshape(3, 3)\n",
    "\n",
    "> arr\n",
    "[[0 1 2]\n",
    " [3 4 5]\n",
    " [6 7 8]]"
   ]
  },
  {
   "cell_type": "code",
   "execution_count": 6,
   "metadata": {},
   "outputs": [
    {
     "data": {
      "text/plain": [
       "array([1, 4, 7])"
      ]
     },
     "execution_count": 6,
     "metadata": {},
     "output_type": "execute_result"
    }
   ],
   "source": [
    "arr = np.arange(9).reshape(3, 3)\n",
    "\n",
    "arr[:,1]"
   ]
  },
  {
   "cell_type": "markdown",
   "metadata": {},
   "source": [
    "# 025\n",
    "\n",
    "데이터 인덱싱\n",
    "\n",
    "다음의 ndarray 객체에서 17을 선택하는 코드를 작성하라.\n",
    "\n",
    "> arr = np.arange(25).reshape(5, 5)\n",
    "\n",
    "> arr\n",
    "[[ 0  1  2  3  4]\n",
    " [ 5  6  7  8  9]\n",
    " [10 11 12 13 14]\n",
    " [15 16 17 18 19]\n",
    " [20 21 22 23 24]]"
   ]
  },
  {
   "cell_type": "code",
   "execution_count": 7,
   "metadata": {},
   "outputs": [
    {
     "data": {
      "text/plain": [
       "17"
      ]
     },
     "execution_count": 7,
     "metadata": {},
     "output_type": "execute_result"
    }
   ],
   "source": [
    "arr = np.arange(25).reshape(5, 5)\n",
    "\n",
    "arr[3,2]"
   ]
  },
  {
   "cell_type": "markdown",
   "metadata": {},
   "source": [
    "# 026\n",
    "\n",
    "슬라이싱\n",
    "\n",
    "[1 3]을 슬라이싱 하는 코드를 작성하세요.\n",
    "\n",
    "> arr = np.arange(5)\n",
    "\n",
    "> arr\n",
    "[ 0  1  2  3  4]"
   ]
  },
  {
   "cell_type": "code",
   "execution_count": 8,
   "metadata": {},
   "outputs": [
    {
     "data": {
      "text/plain": [
       "array([1, 3])"
      ]
     },
     "execution_count": 8,
     "metadata": {},
     "output_type": "execute_result"
    }
   ],
   "source": [
    "arr = np.arange(5)\n",
    "\n",
    "arr[1:4:2]"
   ]
  },
  {
   "cell_type": "markdown",
   "metadata": {},
   "source": [
    "# 027\n",
    "\n",
    "슬라이싱\n",
    "\n",
    "[6 7 8 9]를 슬라이싱 하는 코드를 작성하세요.\n",
    "\n",
    "> arr = np.arange(25).reshape(5, 5)\n",
    "\n",
    "> arr\n",
    "[[ 0  1  2  3  4]\n",
    " [ 5  6  7  8  9]\n",
    " [10 11 12 13 14]\n",
    " [15 16 17 18 19]\n",
    " [20 21 22 23 24]]"
   ]
  },
  {
   "cell_type": "code",
   "execution_count": 9,
   "metadata": {},
   "outputs": [
    {
     "data": {
      "text/plain": [
       "array([6, 7, 8, 9])"
      ]
     },
     "execution_count": 9,
     "metadata": {},
     "output_type": "execute_result"
    }
   ],
   "source": [
    "arr = np.arange(25).reshape(5, 5)\n",
    "\n",
    "arr[1,1:]"
   ]
  },
  {
   "cell_type": "markdown",
   "metadata": {},
   "source": [
    "# 028\n",
    "\n",
    "슬라이싱\n",
    "\n",
    "첫번째와 두번째 컬럼을 슬라이싱하는 코드를 작성하세요.\n",
    "\n",
    "> arr = np.arange(25).reshape(5, 5)\n",
    "\n",
    "> arr\n",
    "[[ 0  1  2  3  4]\n",
    " [ 5  6  7  8  9]\n",
    " [10 11 12 13 14]\n",
    " [15 16 17 18 19]\n",
    " [20 21 22 23 24]]"
   ]
  },
  {
   "cell_type": "code",
   "execution_count": 10,
   "metadata": {},
   "outputs": [
    {
     "data": {
      "text/plain": [
       "array([[ 0,  1],\n",
       "       [ 5,  6],\n",
       "       [10, 11],\n",
       "       [15, 16],\n",
       "       [20, 21]])"
      ]
     },
     "execution_count": 10,
     "metadata": {},
     "output_type": "execute_result"
    }
   ],
   "source": [
    "arr = np.arange(25).reshape(5, 5)\n",
    "\n",
    "arr[:,:2]"
   ]
  },
  {
   "cell_type": "markdown",
   "metadata": {},
   "source": [
    "# 029\n",
    "\n",
    "슬라이싱\n",
    "\n",
    "6. 7,11, 12 를 2x2 ndarray로 슬라이싱하는 코드를 작성하세요.\n",
    "\n",
    "> arr = np.arange(25).reshape(5, 5)\n",
    "\n",
    "> arr\n",
    "[[ 0  1  2  3  4]\n",
    " [ 5  6  7  8  9]\n",
    " [10 11 12 13 14]\n",
    " [15 16 17 18 19]\n",
    " [20 21 22 23 24]]"
   ]
  },
  {
   "cell_type": "code",
   "execution_count": 11,
   "metadata": {},
   "outputs": [
    {
     "data": {
      "text/plain": [
       "array([[ 6,  7],\n",
       "       [11, 12]])"
      ]
     },
     "execution_count": 11,
     "metadata": {},
     "output_type": "execute_result"
    }
   ],
   "source": [
    "arr = np.arange(25).reshape(5, 5)\n",
    "\n",
    "arr[1:3,1:3]"
   ]
  },
  {
   "cell_type": "markdown",
   "metadata": {},
   "source": [
    "# 030\n",
    "\n",
    "슬라이싱\n",
    "\n",
    "0. 3,20, 23 를 2x2 ndarray로 슬라이싱하는 코드를 작성하세요.\n",
    "\n",
    "> arr = np.arange(25).reshape(5, 5)\n",
    "\n",
    "> arr\n",
    "[[ 0  1  2  3  4]\n",
    " [ 5  6  7  8  9]\n",
    " [10 11 12 13 14]\n",
    " [15 16 17 18 19]\n",
    " [20 21 22 23 24]]\n"
   ]
  },
  {
   "cell_type": "code",
   "execution_count": 12,
   "metadata": {},
   "outputs": [
    {
     "data": {
      "text/plain": [
       "array([ 0, 23])"
      ]
     },
     "execution_count": 12,
     "metadata": {},
     "output_type": "execute_result"
    }
   ],
   "source": [
    "arr = np.arange(25).reshape(5, 5)\n",
    "arr[ [0, -1] , [0, 3] ]"
   ]
  }
 ],
 "metadata": {
  "kernelspec": {
   "display_name": "yeardream",
   "language": "python",
   "name": "python3"
  },
  "language_info": {
   "codemirror_mode": {
    "name": "ipython",
    "version": 3
   },
   "file_extension": ".py",
   "mimetype": "text/x-python",
   "name": "python",
   "nbconvert_exporter": "python",
   "pygments_lexer": "ipython3",
   "version": "3.9.19"
  }
 },
 "nbformat": 4,
 "nbformat_minor": 2
}
