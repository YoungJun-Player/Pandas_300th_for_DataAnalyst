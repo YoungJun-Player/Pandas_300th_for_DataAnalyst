{
 "cells": [
  {
   "cell_type": "code",
   "execution_count": null,
   "metadata": {},
   "outputs": [],
   "source": [
    "import numpy as np\n",
    "import pandas as pd"
   ]
  },
  {
   "cell_type": "markdown",
   "metadata": {},
   "source": [
    "# 061\n",
    "\n",
    "시리즈 데이터 타입\n",
    "시리즈의 데이터 타입을 출력해보세요.\n",
    "\n",
    "data = [100, 200, 300]\n",
    "index = [\"철수\", \"영희\", \"아름\"]\n",
    "s = Series(data, index)"
   ]
  },
  {
   "cell_type": "code",
   "execution_count": null,
   "metadata": {},
   "outputs": [],
   "source": [
    "type(s)"
   ]
  },
  {
   "cell_type": "markdown",
   "metadata": {},
   "source": [
    "# 062\n",
    "\n",
    "시리즈 데이터\n",
    "\n",
    "다음 시리즈의 데이터 타입은 무엇일까요?\n",
    "\n",
    "data = [  10,  \"가\" ]\n",
    "s = Series( data )"
   ]
  },
  {
   "cell_type": "code",
   "execution_count": 11,
   "metadata": {},
   "outputs": [],
   "source": [
    "\"object\""
   ]
  },
  {
   "cell_type": "markdown",
   "metadata": {},
   "source": [
    "# 063\n",
    "\n",
    "시리즈 인덱스의 데이터 타입\n",
    "\n",
    "시리즈에서 인덱스의 데이터 타입을 출력해보세요.\n",
    "\n",
    "data = [100, 200, 300]\n",
    "index = [\"철수\", \"영희\", \"아름\"]\n",
    "s = Series(data, index)"
   ]
  },
  {
   "cell_type": "code",
   "execution_count": 12,
   "metadata": {},
   "outputs": [],
   "source": [
    "print(s.index.dtype)"
   ]
  },
  {
   "cell_type": "markdown",
   "metadata": {},
   "source": [
    "# 064\n",
    "\n",
    "시리즈 이름과 인덱스 이름\n",
    "\n",
    "다음은 삼성전자의 종가 데이터입니다. 이를 시리즈 객체로 생성한 후 시리즈의 name 속성에 '종가'를 인덱스의 name 속성에 날짜를 설정해보세요.\n",
    "\n",
    "날짜\t종가\n",
    "2020-12-11\t73400\n",
    "2020-12-10\t72900\n",
    "2020-12-09\t73900\n",
    "2020-12-08\t71700\n",
    "2020-12-07\t72900"
   ]
  },
  {
   "cell_type": "code",
   "execution_count": 13,
   "metadata": {},
   "outputs": [],
   "source": [
    "data = {\n",
    "    \"2020-12-11\": 73400,\n",
    "    \"2020-12-10\": 72900,\n",
    "    \"2020-12-09\": 73900,\n",
    "    \"2020-12-08\": 71700,\n",
    "    \"2020-12-07\": 72900\n",
    "}\n",
    "\n",
    "s = Series(data)\n",
    "\n",
    "s.name = \"종가\"\n",
    "s.index.name = \"날짜\""
   ]
  },
  {
   "cell_type": "markdown",
   "metadata": {},
   "source": [
    "# 065\n",
    "\n",
    "to_dict\n",
    "\n",
    "시리즈의 데이터 타입을 딕셔너리로 변환하세요.\n",
    "\n",
    "import pandas as pd\n",
    "\n",
    "data = {\"apple\": 1500, \"banana\": 3000}\n",
    "s = pd.Series(data)\n",
    "s\n"
   ]
  },
  {
   "cell_type": "code",
   "execution_count": 15,
   "metadata": {},
   "outputs": [],
   "source": [
    "s.to_dict()"
   ]
  },
  {
   "cell_type": "markdown",
   "metadata": {},
   "source": [
    "# 066\n",
    "\n",
    "인덱스 이름\n",
    "\n",
    "다음 시리즈의 인덱스의 이름을 'icecream'으로 변경하세요.\n",
    "\n",
    "import pandas as pd\n",
    "\n",
    "data = {\"apple\": 1500, \"banana\": 3000}\n",
    "s = pd.Series(data)\n",
    "s"
   ]
  },
  {
   "cell_type": "code",
   "execution_count": null,
   "metadata": {},
   "outputs": [],
   "source": [
    "s.index.name = \"icecream\""
   ]
  },
  {
   "cell_type": "markdown",
   "metadata": {},
   "source": [
    "# 067\n",
    "\n",
    "시리즈 이름\n",
    "\n",
    "다음 시리즈 객체의 이름을 'number'로 지정하세요.\n",
    "\n",
    "import pandas as pd\n",
    "\n",
    "s = pd.Series(data=[1, 2, 3])"
   ]
  },
  {
   "cell_type": "code",
   "execution_count": null,
   "metadata": {},
   "outputs": [],
   "source": [
    "s.name = 'number'"
   ]
  },
  {
   "cell_type": "markdown",
   "metadata": {},
   "source": [
    "# 068\n",
    "\n",
    "NaN\n",
    "\n",
    "다음 시리즈 객체를 생성하세요.\n",
    "\n",
    "0    1.0\n",
    "1    2.0\n",
    "2    NaN\n",
    "dtype: float64"
   ]
  },
  {
   "cell_type": "code",
   "execution_count": null,
   "metadata": {},
   "outputs": [],
   "source": [
    "data = [1.0, 2.0, None]"
   ]
  },
  {
   "cell_type": "markdown",
   "metadata": {},
   "source": [
    "# 069\n",
    "\n",
    "Index.to_numpy\n",
    "\n",
    "다음 시리즈 객체의 인덱스를 넘파이 배열로 변경하세요.\n",
    "\n",
    "import pandas as pd\n",
    "\n",
    "s = pd.Series([1, 2, 3])"
   ]
  },
  {
   "cell_type": "code",
   "execution_count": null,
   "metadata": {},
   "outputs": [],
   "source": [
    "s.index.to_numpy()"
   ]
  },
  {
   "cell_type": "markdown",
   "metadata": {},
   "source": [
    "# 070\n",
    "\n",
    "Series.array\n",
    "\n",
    "다음 시리즈 객체의 array 속성을 사용해보세요.\n",
    "\n",
    "import pandas as pd\n",
    "\n",
    "s = pd.Series([1, 2, 3])"
   ]
  },
  {
   "cell_type": "code",
   "execution_count": null,
   "metadata": {},
   "outputs": [],
   "source": [
    "s.array"
   ]
  }
 ],
 "metadata": {
  "kernelspec": {
   "display_name": "yeardream",
   "language": "python",
   "name": "python3"
  },
  "language_info": {
   "codemirror_mode": {
    "name": "ipython",
    "version": 3
   },
   "file_extension": ".py",
   "mimetype": "text/x-python",
   "name": "python",
   "nbconvert_exporter": "python",
   "pygments_lexer": "ipython3",
   "version": "3.12.1"
  }
 },
 "nbformat": 4,
 "nbformat_minor": 2
}
