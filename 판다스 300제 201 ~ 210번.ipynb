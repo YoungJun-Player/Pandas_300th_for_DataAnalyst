{
 "cells": [
  {
   "cell_type": "code",
   "execution_count": 2,
   "metadata": {},
   "outputs": [],
   "source": [
    "import numpy as np\n",
    "import pandas as pd\n",
    "from datetime import datetime"
   ]
  },
  {
   "cell_type": "markdown",
   "metadata": {},
   "source": [
    "# 201\n",
    "\n",
    "wide data\n",
    "다음 그림의 데이터프레임을 생성하세요."
   ]
  },
  {
   "cell_type": "code",
   "execution_count": null,
   "metadata": {},
   "outputs": [],
   "source": [
    "data = {\n",
    "    'Date': [datetime(2020, 12, 1), datetime(2021, 12, 1)],\n",
    "    '삼성전자': [21.09, 13.55],\n",
    "    '카카오': [221.53, 35.92],\n",
    "    'NAVER': [47.97, 3.77],\n",
    "    'SK하이닉스': [18.14, 9.93],\n",
    "    '현대차': [37.33, 11.71]\n",
    "}\n",
    "\n",
    "df = pd.DataFrame(data = data)"
   ]
  },
  {
   "cell_type": "markdown",
   "metadata": {},
   "source": [
    "# 202\n",
    "\n",
    "pandas.melt\n",
    "pandas melt 함수를 사용하여 위 데이터프레임을 다음과 같이 변경하세요,\n",
    "\n"
   ]
  },
  {
   "cell_type": "code",
   "execution_count": 11,
   "metadata": {},
   "outputs": [],
   "source": [
    "df = pd.melt(df, id_vars=['Date'], var_name='종목명', value_name='PER')"
   ]
  },
  {
   "cell_type": "markdown",
   "metadata": {},
   "source": [
    "# 203\n",
    "\n",
    "pandas.pivot\n",
    "\n",
    "데이터프레임 df를 pandas pivot 함수를 사용해서 아래 그림과 같이 변환해보세요.\n",
    "\n",
    "import pandas as pd\n",
    "\n",
    "data = [\n",
    "    [\"2021-08-12\", \"삼성전자\", 77000],\n",
    "    [\"2021-08-13\", \"삼성전자\", 74400],\n",
    "    [\"2021-08-12\", \"LG전자\", 153000],\n",
    "    [\"2021-08-13\", \"LG전자\", 150500],\n",
    "    [\"2021-08-12\", \"SK하이닉스\", 100500],\n",
    "    [\"2021-08-13\", \"SK하이닉스\", 101500]\n",
    "]\n",
    "columns = [\"날짜\", \"종목명\", \"종가\"]\n",
    "df = pd.DataFrame(data=data, columns=columns)"
   ]
  },
  {
   "cell_type": "code",
   "execution_count": 12,
   "metadata": {},
   "outputs": [],
   "source": [
    "df = pd.pivot(df, index='날짜', columns='종목명', values='종가')"
   ]
  },
  {
   "cell_type": "markdown",
   "metadata": {},
   "source": [
    "# 204\n",
    "\n",
    "pandas.pivot\n",
    "위 데이터프레임 df를 판다스 pivot 함수를 사용해 다음 그림과 같이 변환해보세요.\n",
    "\n"
   ]
  },
  {
   "cell_type": "code",
   "execution_count": 13,
   "metadata": {},
   "outputs": [],
   "source": [
    "pd.pivot(df, index='종목명', columns='날짜', values='종가')"
   ]
  },
  {
   "cell_type": "markdown",
   "metadata": {},
   "source": [
    "# 205\n",
    "\n",
    "DataFrame stack\n",
    "\n",
    "다음 데이터프레임 df를 stack 메서드를 사용해서 그림과 같이 변환해보세요. 변환된 데이터프레임을 stacked 변수로 바인딩하세요.\n",
    "\n",
    "import pandas as pd\n",
    "from datetime import datetime\n",
    "\n",
    "arrays = [\n",
    "    ['영업이익', '영업이익', '당기순이익', '당기순이익'],\n",
    "    ['컨센서스', '잠정치', '컨센서스', '잠정치']\n",
    "]\n",
    "\n",
    "columns = pd.MultiIndex.from_arrays(arrays)\n",
    "index = [datetime(2020, 6, 1), datetime(2020, 9, 1)]\n",
    "data = [\n",
    "    [100, 900, 800, 700],\n",
    "    [1200, 1400, 900, 800]\n",
    "]\n",
    "df = pd.DataFrame(data=data, index=index, columns=columns)"
   ]
  },
  {
   "cell_type": "code",
   "execution_count": 15,
   "metadata": {},
   "outputs": [],
   "source": [
    "stacked = df.stack()"
   ]
  },
  {
   "cell_type": "markdown",
   "metadata": {},
   "source": [
    "# 206\n",
    "\n",
    "DataFrame stack\n",
    "\n",
    "위 데이터프레임 df를 stack 메서드를 사용하여 다음 그림과 같이 변환해보세요."
   ]
  },
  {
   "cell_type": "code",
   "execution_count": null,
   "metadata": {},
   "outputs": [],
   "source": [
    "df.stack(level=0)"
   ]
  },
  {
   "cell_type": "markdown",
   "metadata": {},
   "source": [
    "# 207\n",
    "\n",
    "DataFrame.unstack\n",
    "\n",
    "stacked 변수가 바인딩하는 데이터프레임에 unstack 메서드를 호출해보세요."
   ]
  },
  {
   "cell_type": "code",
   "execution_count": null,
   "metadata": {},
   "outputs": [],
   "source": [
    "stacked.unstack()"
   ]
  },
  {
   "cell_type": "markdown",
   "metadata": {},
   "source": [
    "# 208\n",
    "\n",
    "pandas.cut\n",
    "\n",
    "다음 값을 판다스의 cut 함수를 사용하여 3개의 구간으로 나누세요.\n",
    "\n",
    "import numpy as np\n",
    "arr = np.array([1, 7, 5, 4, 6, 3])"
   ]
  },
  {
   "cell_type": "code",
   "execution_count": null,
   "metadata": {},
   "outputs": [],
   "source": [
    "pd.cut(arr, 3)"
   ]
  },
  {
   "cell_type": "markdown",
   "metadata": {},
   "source": [
    "# 209\n",
    "\n",
    "pandas.cut labels\n",
    "\n",
    "다음 값을 판다스의 cut 함수를 사용하여 3개의 구간으로 나누세요. 각 구간의 라벨은 'bad', 'medium', 'good'입니다.\n",
    "\n",
    "import numpy as np arr = np.array([1,  7,  5,  4,  6,  3])"
   ]
  },
  {
   "cell_type": "code",
   "execution_count": null,
   "metadata": {},
   "outputs": [],
   "source": [
    "pd.cut(arr), 3, labels=[\"bad\", \"medium\", \"good\"]"
   ]
  },
  {
   "cell_type": "markdown",
   "metadata": {},
   "source": [
    "# 210\n",
    "\n",
    "pandas cut\n",
    "\n",
    "다음 시리즈 객체에 대해서 수, 우, 미, 양, 가로 평가하세요.\n",
    "\n",
    "점수\t평가\n",
    "90~100\t수\n",
    "80 ~ 89\t우\n",
    "70 ~ 79\t미\n",
    "60 ~ 69\t양\n",
    "0 ~ 59\t가\n",
    "import pandas as pd\n",
    "\n",
    "scores = [90, 55, 73, 87, 80, 66, 40, 100]\n",
    "s = pd.Series(scores)"
   ]
  },
  {
   "cell_type": "code",
   "execution_count": null,
   "metadata": {},
   "outputs": [],
   "source": [
    "import pandas as pd\n",
    "\n",
    "scores = [90, 55, 73, 87, 80, 66, 40, 100]\n",
    "s = pd.Series(scores)\n",
    "pd.cut(s, \n",
    "       bins=[0, 60, 70, 80, 90, 101], \n",
    "       right=False, \n",
    "       labels=[\"가\",\"양\",\"미\",\"우\",\"수\"])"
   ]
  }
 ],
 "metadata": {
  "kernelspec": {
   "display_name": "yeardream",
   "language": "python",
   "name": "python3"
  },
  "language_info": {
   "codemirror_mode": {
    "name": "ipython",
    "version": 3
   },
   "file_extension": ".py",
   "mimetype": "text/x-python",
   "name": "python",
   "nbconvert_exporter": "python",
   "pygments_lexer": "ipython3",
   "version": "3.12.1"
  }
 },
 "nbformat": 4,
 "nbformat_minor": 2
}
