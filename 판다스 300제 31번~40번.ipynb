{
 "cells": [
  {
   "cell_type": "code",
   "execution_count": 1,
   "metadata": {},
   "outputs": [],
   "source": [
    "import numpy as np"
   ]
  },
  {
   "cell_type": "markdown",
   "metadata": {},
   "source": [
    "# 031\n",
    "\n",
    "ndarray 곱셈\n",
    "\n",
    "전체 데이터에 10을 곱한 결과를 ndarray에 저장하세요.\n",
    "\n",
    "data = [1, 2, 3]"
   ]
  },
  {
   "cell_type": "code",
   "execution_count": 2,
   "metadata": {},
   "outputs": [],
   "source": [
    "\n",
    "data = [1, 2, 3]\n",
    "\n",
    "arr = np.array(data)*10"
   ]
  },
  {
   "cell_type": "markdown",
   "metadata": {},
   "source": [
    "# 032\n",
    "\n",
    "ndarray 제곱\n",
    "\n",
    "전체 데이터에 제곱한 결과를 ndarray에 저장하세요.\n",
    "\n",
    "data = [1, 2, 3]"
   ]
  },
  {
   "cell_type": "code",
   "execution_count": 3,
   "metadata": {},
   "outputs": [],
   "source": [
    "\n",
    "data = [1, 2, 3]\n",
    "\n",
    "arr = np.array(data)**2"
   ]
  },
  {
   "cell_type": "markdown",
   "metadata": {},
   "source": [
    "# 033\n",
    "\n",
    "ndarray 루트\n",
    "\n",
    "전체 데이터에 루트를 적용한 결과를 ndarray에 저장하세요.\n",
    "\n",
    "data = [1, 2, 3]"
   ]
  },
  {
   "cell_type": "code",
   "execution_count": 4,
   "metadata": {},
   "outputs": [],
   "source": [
    "data = [1, 2, 3]\n",
    "\n",
    "arr = np.array(data)**1/2"
   ]
  },
  {
   "cell_type": "markdown",
   "metadata": {},
   "source": [
    "# 034\n",
    "\n",
    "ndarray 컬럼 평균\n",
    "\n",
    "다음 ndarray에는 중간고사의 국어점수(10), 영어점수(20), 기말고사의 국어점수(14), 영어점수(16)이 저장돼 있습니다.\n",
    "\n",
    "score = np.array([\n",
    "    [10, 20],  # 중간고사\n",
    "    [14, 16]   # 기말고사\n",
    "])\n",
    "\n",
    "과목별 평균 점수를 출력하세요.\n",
    "\n",
    "[12. 18.]"
   ]
  },
  {
   "cell_type": "code",
   "execution_count": 11,
   "metadata": {},
   "outputs": [
    {
     "data": {
      "text/plain": [
       "array([12., 18.])"
      ]
     },
     "execution_count": 11,
     "metadata": {},
     "output_type": "execute_result"
    }
   ],
   "source": [
    "score = np.array([\n",
    "    [10, 20],  # 중간고사\n",
    "    [14, 16]   # 기말고사\n",
    "])\n",
    "\n",
    "score.mean(axis=0) #열 기준 평균 계산"
   ]
  },
  {
   "cell_type": "markdown",
   "metadata": {},
   "source": [
    "# 035\n",
    "\n",
    "ndarray 로우 표준편차\n",
    "\n",
    "다음 ndarray에는 중간고사의 국어점수(10), 영어점수(20), 기말고사의 국어점수(14), 영어점수(16)이 저장돼 있습니다.\n",
    "\n",
    "score = np.array([\n",
    "    [10, 20],  # 중간고사\n",
    "    [14, 16]   # 기말고사\n",
    "])\n",
    "중간고사와 기말고사의 표준편차를 출력하세요.\n",
    "\n",
    "[5. 1.]\n"
   ]
  },
  {
   "cell_type": "code",
   "execution_count": 13,
   "metadata": {},
   "outputs": [
    {
     "data": {
      "text/plain": [
       "array([5., 1.])"
      ]
     },
     "execution_count": 13,
     "metadata": {},
     "output_type": "execute_result"
    }
   ],
   "source": [
    "score = np.array([\n",
    "    [10, 20],  # 중간고사\n",
    "    [14, 16]   # 기말고사\n",
    "])\n",
    "\n",
    "score.std(axis=1) #행 기준 표준편차 계산"
   ]
  },
  {
   "cell_type": "markdown",
   "metadata": {},
   "source": [
    "# 036\n",
    "\n",
    "행렬곱\n",
    "\n",
    "두 행렬의 곱셉결과를 출력하세요.\n",
    "\n",
    "> a = np.arange(   4).reshape(2,2)\n",
    "\n",
    "> a\n",
    "[[0 1]\n",
    " [2 3]]\n",
    "\n",
    "> b = np.arange(1, 5).reshape(2,2)\n",
    "\n",
    "> b\n",
    "[[1 2]\n",
    " [3 4]]"
   ]
  },
  {
   "cell_type": "code",
   "execution_count": 14,
   "metadata": {},
   "outputs": [
    {
     "data": {
      "text/plain": [
       "array([[ 3,  4],\n",
       "       [11, 16]])"
      ]
     },
     "execution_count": 14,
     "metadata": {},
     "output_type": "execute_result"
    }
   ],
   "source": [
    "\n",
    "a = np.arange(   4).reshape(2,2)\n",
    "b = np.arange(1, 5).reshape(2,2)\n",
    "\n",
    "np.matmul(a,b)\n"
   ]
  },
  {
   "cell_type": "markdown",
   "metadata": {},
   "source": [
    "# 037\n",
    "\n",
    "전치행렬\n",
    "\n",
    "다음의 ndarray로 행과 열의 위치를 바꾼 전치행렬을 출력하세요.\n",
    "\n",
    "arr = np.arange(9).reshape(3, 3)"
   ]
  },
  {
   "cell_type": "code",
   "execution_count": 18,
   "metadata": {},
   "outputs": [
    {
     "data": {
      "text/plain": [
       "array([[0, 3, 6],\n",
       "       [1, 4, 7],\n",
       "       [2, 5, 8]])"
      ]
     },
     "execution_count": 18,
     "metadata": {},
     "output_type": "execute_result"
    }
   ],
   "source": [
    "arr = np.arange(9).reshape(3, 3)\n",
    "\n",
    "arr.T"
   ]
  },
  {
   "cell_type": "markdown",
   "metadata": {},
   "source": [
    "# 038\n",
    "\n",
    "짝수 배열\n",
    "\n",
    "다음 배열에서 짝수 값만 추출하세요.\n",
    "\n",
    "import numpy as np\n",
    "\n",
    "arr = np.arange(10)"
   ]
  },
  {
   "cell_type": "code",
   "execution_count": 19,
   "metadata": {},
   "outputs": [
    {
     "data": {
      "text/plain": [
       "array([2, 4, 6, 8])"
      ]
     },
     "execution_count": 19,
     "metadata": {},
     "output_type": "execute_result"
    }
   ],
   "source": [
    "arr = np.arange(10)\n",
    "\n",
    "arr[2::2]"
   ]
  },
  {
   "cell_type": "markdown",
   "metadata": {},
   "source": [
    "# 039\n",
    "\n",
    "홀수 배열\n",
    "\n",
    "다음 배열에서 홀수 값만 추출하세요.\n",
    "\n",
    "import numpy as np\n",
    "\n",
    "arr = np.arange(10)"
   ]
  },
  {
   "cell_type": "code",
   "execution_count": 20,
   "metadata": {},
   "outputs": [
    {
     "data": {
      "text/plain": [
       "array([1, 3, 5, 7, 9])"
      ]
     },
     "execution_count": 20,
     "metadata": {},
     "output_type": "execute_result"
    }
   ],
   "source": [
    "arr = np.arange(10)\n",
    "\n",
    "arr[1::2]"
   ]
  },
  {
   "cell_type": "markdown",
   "metadata": {},
   "source": [
    "# 040\n",
    "\n",
    "여러 조건\n",
    "\n",
    "다음 배열에서 3보다 크고 7보다 작은수만 추출하세요\n",
    "\n",
    "import numpy as np\n",
    "\n",
    "arr = np.arange(10)"
   ]
  },
  {
   "cell_type": "code",
   "execution_count": 22,
   "metadata": {},
   "outputs": [
    {
     "data": {
      "text/plain": [
       "array([3, 4, 5, 6])"
      ]
     },
     "execution_count": 22,
     "metadata": {},
     "output_type": "execute_result"
    }
   ],
   "source": [
    "arr = np.arange(10)\n",
    "\n",
    "arr[3:7]"
   ]
  }
 ],
 "metadata": {
  "kernelspec": {
   "display_name": "yeardream",
   "language": "python",
   "name": "python3"
  },
  "language_info": {
   "codemirror_mode": {
    "name": "ipython",
    "version": 3
   },
   "file_extension": ".py",
   "mimetype": "text/x-python",
   "name": "python",
   "nbconvert_exporter": "python",
   "pygments_lexer": "ipython3",
   "version": "3.9.19"
  }
 },
 "nbformat": 4,
 "nbformat_minor": 2
}
