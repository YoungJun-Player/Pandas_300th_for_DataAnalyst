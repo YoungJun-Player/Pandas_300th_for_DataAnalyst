{
 "cells": [
  {
   "cell_type": "code",
   "execution_count": null,
   "metadata": {},
   "outputs": [],
   "source": [
    "import numpy as np\n",
    "import pandas as pd"
   ]
  },
  {
   "cell_type": "markdown",
   "metadata": {},
   "source": [
    "# 101\n",
    "\n",
    "시리즈 sum 메소드\n",
    "\n",
    "삼성전자의 종가 시리즈를 사용해서 종가의 합을 출력하세요.\n",
    "\n",
    "from pandas import Series \n",
    "\n",
    "data = {\n",
    "    \"2020-12-11\": 73400,\n",
    "    \"2020-12-10\": 72900,\n",
    "    \"2020-12-09\": 73900,\n",
    "    \"2020-12-08\": 71700,\n",
    "    \"2020-12-07\": 72900\n",
    "}\n",
    "s = Series(data)"
   ]
  },
  {
   "cell_type": "code",
   "execution_count": null,
   "metadata": {},
   "outputs": [],
   "source": [
    "s.sum()"
   ]
  },
  {
   "cell_type": "markdown",
   "metadata": {},
   "source": [
    "# 102\n",
    "\n",
    "시리즈 mean 메소드\n",
    "\n",
    "삼성전자의 종가의 평균을 시리즈로 출력하세요.\n",
    "\n",
    "from pandas import Series \n",
    "\n",
    "data = {\n",
    "    \"2020-12-11\": 73400,\n",
    "    \"2020-12-10\": 72900,\n",
    "    \"2020-12-09\": 73900,\n",
    "    \"2020-12-08\": 71700,\n",
    "    \"2020-12-07\": 72900\n",
    "}\n",
    "s = Series(data)"
   ]
  },
  {
   "cell_type": "code",
   "execution_count": 11,
   "metadata": {},
   "outputs": [],
   "source": [
    "s.mean()"
   ]
  },
  {
   "cell_type": "markdown",
   "metadata": {},
   "source": [
    "# 103\n",
    "\n",
    "시리즈 max/min 메소드\n",
    "\n",
    "다음은 삼성전자의 종가 데이터입니다.\n",
    "\n",
    "from pandas import Series \n",
    "\n",
    "data = {\n",
    "    \"2020-12-11\": 73400,\n",
    "    \"2020-12-10\": 72900,\n",
    "    \"2020-12-09\": 73900,\n",
    "    \"2020-12-08\": 71700,\n",
    "    \"2020-12-07\": 72900\n",
    "}\n",
    "\n",
    "s = Series(data)\n",
    "삼성전자 종가 데이터의 최댓값과 최솟값을 출력하세요.\n",
    "\n",
    "날짜\t종가\n",
    "2020-12-11\t73400\n",
    "2020-12-10\t72900\n",
    "2020-12-09\t73900\n",
    "2020-12-08\t71700\n",
    "2020-12-07\t72900"
   ]
  },
  {
   "cell_type": "code",
   "execution_count": 12,
   "metadata": {},
   "outputs": [],
   "source": [
    "s.max()\n",
    "s.min()"
   ]
  },
  {
   "cell_type": "markdown",
   "metadata": {},
   "source": [
    "# 104\n",
    "\n",
    "시리즈 pct_change\n",
    "\n",
    "삼성전자의 종가 데이터로 일별 상승률을 시리즈로 출력하세요.\n",
    "\n",
    "from pandas import Series \n",
    "\n",
    "data = {\n",
    "    \"2020-12-11\": 73400,\n",
    "    \"2020-12-10\": 72900,\n",
    "    \"2020-12-09\": 73900,\n",
    "    \"2020-12-08\": 71700,\n",
    "    \"2020-12-07\": 72900\n",
    "}\n",
    "\n",
    "s = Series(data)\n",
    "\n",
    "날짜\t상승률\n",
    "2020-12-11\tNaN\n",
    "2020-12-10\t-0.006812\n",
    "2020-12-09\t0.013717\n",
    "2020-12-08\t-0.029770\n",
    "2020-12-07\t0.016736"
   ]
  },
  {
   "cell_type": "code",
   "execution_count": 13,
   "metadata": {},
   "outputs": [],
   "source": [
    "s.pct_change()"
   ]
  },
  {
   "cell_type": "markdown",
   "metadata": {},
   "source": [
    "# 105\n",
    "\n",
    "시리즈 product 메소드\n",
    "\n",
    "다음은 일별 수익률을 배(ratio)율로 표현한 데이터입니다. 각 거래일의 수익률을 모두 곱한 값을 출력하세요.\n",
    "\n",
    "날짜\t수익률\n",
    "2020-12-11\t1.01\n",
    "2020-12-10\t0.99\n",
    "2020-12-09\t1.03\n",
    "2020-12-08\t1.02\n",
    "2020-12-07\t1\n"
   ]
  },
  {
   "cell_type": "code",
   "execution_count": 15,
   "metadata": {},
   "outputs": [],
   "source": [
    "s.product()"
   ]
  },
  {
   "cell_type": "markdown",
   "metadata": {},
   "source": []
  },
  {
   "cell_type": "code",
   "execution_count": null,
   "metadata": {},
   "outputs": [],
   "source": []
  },
  {
   "cell_type": "markdown",
   "metadata": {},
   "source": []
  },
  {
   "cell_type": "code",
   "execution_count": null,
   "metadata": {},
   "outputs": [],
   "source": []
  },
  {
   "cell_type": "markdown",
   "metadata": {},
   "source": []
  },
  {
   "cell_type": "code",
   "execution_count": null,
   "metadata": {},
   "outputs": [],
   "source": []
  },
  {
   "cell_type": "markdown",
   "metadata": {},
   "source": []
  },
  {
   "cell_type": "code",
   "execution_count": null,
   "metadata": {},
   "outputs": [],
   "source": []
  },
  {
   "cell_type": "markdown",
   "metadata": {},
   "source": []
  },
  {
   "cell_type": "code",
   "execution_count": null,
   "metadata": {},
   "outputs": [],
   "source": []
  }
 ],
 "metadata": {
  "kernelspec": {
   "display_name": "yeardream",
   "language": "python",
   "name": "python3"
  },
  "language_info": {
   "codemirror_mode": {
    "name": "ipython",
    "version": 3
   },
   "file_extension": ".py",
   "mimetype": "text/x-python",
   "name": "python",
   "nbconvert_exporter": "python",
   "pygments_lexer": "ipython3",
   "version": "3.12.1"
  }
 },
 "nbformat": 4,
 "nbformat_minor": 2
}
