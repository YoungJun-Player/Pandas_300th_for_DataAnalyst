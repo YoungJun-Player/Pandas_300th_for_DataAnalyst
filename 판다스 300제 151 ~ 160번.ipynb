{
 "cells": [
  {
   "cell_type": "code",
   "execution_count": 2,
   "metadata": {},
   "outputs": [],
   "source": [
    "import numpy as np"
   ]
  },
  {
   "cell_type": "markdown",
   "metadata": {},
   "source": [
    "# 151\n",
    "\n",
    "데이터터프레임 위/아래 붙이기 (concat)\n",
    "\n",
    "df1, df2 데이터프레임을 위/아래 방향으로 연결하세요. (위에 df1이 있고 그 아래에 df2가 있어야합니다.)\n",
    "\n",
    "columns = ['open', 'high', 'low', 'close']\n",
    "index1 = [\n",
    "    datetime(2022, 9, 8),\n",
    "    datetime(2022, 9, 7),\n",
    "    datetime(2022, 9, 6),\n",
    "    datetime(2022, 9, 5),\n",
    "    datetime(2022, 9, 2)\n",
    "]\n",
    "\n",
    "index2 = [\n",
    "    datetime(2022, 9, 1),\n",
    "    datetime(2022, 8, 31),\n",
    "    datetime(2022, 8, 30),\n",
    "    datetime(2022, 8, 29),\n",
    "    datetime(2022, 8, 26)\n",
    "]\n",
    "\n",
    "df1 = pd.DataFrame(data=np.arange(0, 20).reshape(5,4), index=index1, columns=columns)\n",
    "df2 = pd.DataFrame(data=np.arange(20,40).reshape(5,4), index=index2, columns=columns)"
   ]
  },
  {
   "cell_type": "code",
   "execution_count": null,
   "metadata": {},
   "outputs": [],
   "source": [
    "pd.concat([df1, df2], axis=0)"
   ]
  },
  {
   "cell_type": "markdown",
   "metadata": {},
   "source": [
    "# 152\n",
    "\n",
    "데이터터프레임 위/아래 붙이기 (concat)\n",
    "\n",
    "위 df1, df2 데이터프레임을 위/아래 방향으로 연결하세요. (위에 df2가 있고 그 아래에 df1가 있어야합니다.)"
   ]
  },
  {
   "cell_type": "code",
   "execution_count": 11,
   "metadata": {},
   "outputs": [],
   "source": [
    "pd.concat([df2, df1], axis=0)"
   ]
  },
  {
   "cell_type": "markdown",
   "metadata": {},
   "source": [
    "# 153\n",
    "\n",
    "데이터프레임 좌/우로 붙이기 (concat)\n",
    "\n",
    "다음 df1, df2 데이터프레임을 좌/우로 붙여 새로운 데이터프레임을 생성하세요.\n",
    "\n",
    "index = [\n",
    "    datetime(2022, 9, 8),\n",
    "    datetime(2022, 9, 7),\n",
    "    datetime(2022, 9, 6),\n",
    "    datetime(2022, 9, 5),\n",
    "    datetime(2022, 9, 2)\n",
    "]\n",
    "\n",
    "df1 = pd.DataFrame(data=np.arange(0, 10).reshape(5,2), index=index, columns=['open', 'high'])\n",
    "df2 = pd.DataFrame(data=np.arange(10,20).reshape(5,2), index=index, columns=['low', 'close'])"
   ]
  },
  {
   "cell_type": "code",
   "execution_count": 12,
   "metadata": {},
   "outputs": [],
   "source": [
    "pd.concat([df1, df2], axis=1)"
   ]
  },
  {
   "cell_type": "markdown",
   "metadata": {},
   "source": [
    "# 154\n",
    "\n",
    "DataFrame.concat\n",
    "\n",
    "다음 df1, df2 데이터프레임을 위/아래로 연결하세요. concat 메서드에서 join='outer'를 사용하세요.\n",
    "\n",
    "index1 = [\n",
    "    datetime(2022, 9, 8),\n",
    "    datetime(2022, 9, 7)\n",
    "]\n",
    "\n",
    "index2 = [\n",
    "    datetime(2022, 9, 6),\n",
    "    datetime(2022, 9, 5)\n",
    "]\n",
    "df1 = pd.DataFrame(np.arange(0, 6).reshape(2,3), index=index1, columns=['open', 'high', 'low'])\n",
    "df2 = pd.DataFrame(np.arange(6,12).reshape(2,3), index=index2, columns=['high', 'low', 'close'])"
   ]
  },
  {
   "cell_type": "code",
   "execution_count": 13,
   "metadata": {},
   "outputs": [],
   "source": [
    "pd.concat([df1, df2], axis=0, join='outer')"
   ]
  },
  {
   "cell_type": "markdown",
   "metadata": {},
   "source": [
    "# 155\n",
    "\n",
    "DataFrame.concat (join parameter)\n",
    "\n",
    "위 df1, df2 데이터프레임을 위/아래로 연결하세요. concat 메서드에서 join='inner'를 사용하세요."
   ]
  },
  {
   "cell_type": "code",
   "execution_count": 15,
   "metadata": {},
   "outputs": [],
   "source": [
    "pd.concat([df1, df2], axis=0, join='inner')"
   ]
  },
  {
   "cell_type": "markdown",
   "metadata": {},
   "source": [
    "# 156\n",
    "\n",
    "pd.concat series\n",
    "\n",
    "다음 s1, s2 시리즈 객체를 위/아래로 연결하세요.\n",
    "\n",
    "s1 = pd.Series(['a', 'b'])\n",
    "s2 = pd.Series(['c', 'd'])"
   ]
  },
  {
   "cell_type": "code",
   "execution_count": null,
   "metadata": {},
   "outputs": [],
   "source": [
    "pd.concat([s1,s2], axis = 0)"
   ]
  },
  {
   "cell_type": "markdown",
   "metadata": {},
   "source": [
    "# 157\n",
    "\n",
    "pd.concat series\n",
    "\n",
    "다음 s1, s2 시리즈 객체를 좌/우로 연결하세요.\n",
    "\n",
    "s1 = pd.Series(['a', 'b'])\n",
    "s2 = pd.Series(['c', 'd'])"
   ]
  },
  {
   "cell_type": "code",
   "execution_count": null,
   "metadata": {},
   "outputs": [],
   "source": [
    "pd.concat([s1,s2], axis = 1)"
   ]
  },
  {
   "cell_type": "markdown",
   "metadata": {},
   "source": [
    "# 158\n",
    "\n",
    "pd.concat & ignore_index\n",
    "\n",
    "다음 df1, df2를 concat 메서드로 위/아래로 붙일 때 인덱스를 무시하고 연결하세요.\n",
    "\n",
    "df1 = pd.DataFrame(np.arange(0, 4).reshape(2,2))\n",
    "df2 = pd.DataFrame(np.arange(4, 8).reshape(2,2))"
   ]
  },
  {
   "cell_type": "code",
   "execution_count": null,
   "metadata": {},
   "outputs": [],
   "source": [
    "pd.concat([df1,df2], ignore_index=True)"
   ]
  },
  {
   "cell_type": "markdown",
   "metadata": {},
   "source": [
    "# 159\n",
    "\n",
    "pd.concat 멀티인덱스\n",
    "\n",
    "df1, df2 데이터프레임을 concat 메서드로 위/아래로 연결할 때 다음 그림과 같이 멀티인덱스로 구성하세요.\n",
    "\n",
    "\n",
    "\n",
    "index = [\"2020\", \"2021\"]\n",
    "\n",
    "data1 = {\n",
    "    \"PER\": [21.09, 13.55],\n",
    "    \"PBR\": [2.06, 1.80]\n",
    "}\n",
    "\n",
    "data2 = {\n",
    "    \"PER\": [12.40, 24.19],\n",
    "    \"PBR\": [1.58, 1.44]\n",
    "}\n",
    "\n",
    "df1 = pd.DataFrame(data=data1, index=index)\n",
    "df2 = pd.DataFrame(data=data2, index=index)"
   ]
  },
  {
   "cell_type": "code",
   "execution_count": null,
   "metadata": {},
   "outputs": [],
   "source": [
    "pd.concat([df1,df2],keys = ['삼성전자','lg전자'], names = ['종목명','연도'])"
   ]
  },
  {
   "cell_type": "markdown",
   "metadata": {},
   "source": [
    "# 160\n",
    "\n",
    "pd.concat (names parameter)\n",
    "\n",
    "위 df1, df2 데이터프레임을 다음 그림과 같이 연결하세요. 멀티 인덱스 이름을 지정하세요."
   ]
  },
  {
   "cell_type": "code",
   "execution_count": null,
   "metadata": {},
   "outputs": [],
   "source": [
    "pd.concat([df1,df2],keys = ['삼성전자','lg전자'], names = ['종목명','연도'] )"
   ]
  }
 ],
 "metadata": {
  "kernelspec": {
   "display_name": "yeardream",
   "language": "python",
   "name": "python3"
  },
  "language_info": {
   "codemirror_mode": {
    "name": "ipython",
    "version": 3
   },
   "file_extension": ".py",
   "mimetype": "text/x-python",
   "name": "python",
   "nbconvert_exporter": "python",
   "pygments_lexer": "ipython3",
   "version": "3.9.19"
  }
 },
 "nbformat": 4,
 "nbformat_minor": 2
}
