{
 "cells": [
  {
   "cell_type": "code",
   "execution_count": null,
   "metadata": {},
   "outputs": [],
   "source": [
    "import numpy as np\n",
    "import pandas as pd"
   ]
  },
  {
   "cell_type": "markdown",
   "metadata": {},
   "source": [
    "# 121\n",
    "\n",
    "dropna\n",
    "\n",
    "다음과 같이 NaN이 포함된 시리즈 겍채에서 NaN 값을 제거하세요.\n",
    "\n",
    "import numpy as np\n",
    "from pandas import Series\n",
    "\n",
    "data = [1, 2, 3, 4, np.nan]\n",
    "s = Series(data=data)\n",
    "s"
   ]
  },
  {
   "cell_type": "code",
   "execution_count": null,
   "metadata": {},
   "outputs": [],
   "source": [
    "s.dropna()"
   ]
  },
  {
   "cell_type": "markdown",
   "metadata": {},
   "source": [
    "# 122\n",
    "\n",
    "nlargest\n",
    "\n",
    "다음과 같은 시리즈 객체가 있을 때 nlargest 메서드를 사용하여 값이 큰 3개를 출력해보세요.\n",
    "\n",
    "from pandas import Series\n",
    "\n",
    "data = range(1, 11)\n",
    "s = Series(data=data)\n",
    "s"
   ]
  },
  {
   "cell_type": "code",
   "execution_count": 11,
   "metadata": {},
   "outputs": [],
   "source": [
    "s.nlargest(n=3)"
   ]
  },
  {
   "cell_type": "markdown",
   "metadata": {},
   "source": [
    "# 123\n",
    "\n",
    "nsmallest\n",
    "\n",
    "다음과 같은 시리즈 객체가 있을 때 nsmallest 메서드를 사용하여 값이 작은 3개를 출력해보세요.\n",
    "\n",
    "from pandas import Series\n",
    "\n",
    "data = range(1, 11)\n",
    "s = Series(data=data)\n",
    "s"
   ]
  },
  {
   "cell_type": "code",
   "execution_count": 12,
   "metadata": {},
   "outputs": [],
   "source": [
    "s.nsmallest(n=3)"
   ]
  },
  {
   "cell_type": "markdown",
   "metadata": {},
   "source": [
    "# 124\n",
    "\n",
    "Series.dt.year\n",
    "\n",
    "다음 시리즈 객체의 값에서 연도만 출력하세요.\n",
    "\n",
    "import pandas as pd\n",
    "\n",
    "data = pd.to_datetime( ['20200101', '20210101', '20220101'] )\n",
    "s = pd.Series( data)"
   ]
  },
  {
   "cell_type": "code",
   "execution_count": 13,
   "metadata": {},
   "outputs": [],
   "source": [
    "s.dt.year"
   ]
  },
  {
   "cell_type": "markdown",
   "metadata": {},
   "source": [
    "# 125\n",
    "\n",
    "Series.dt.day\n",
    "\n",
    "다음 시리즈 객체의 값에서 '일'만 가져와 보세요.\n",
    "\n",
    "import pandas as pd\n",
    "\n",
    "data = pd.to_datetime( ['20200101', '20210101', '20220101'] )\n",
    "s = pd.Series( data)"
   ]
  },
  {
   "cell_type": "code",
   "execution_count": 15,
   "metadata": {},
   "outputs": [],
   "source": [
    "s.dt.day"
   ]
  },
  {
   "cell_type": "markdown",
   "metadata": {},
   "source": [
    "# 126\n",
    "\n",
    "시리즈 시계열 인덱스\n",
    "\n",
    "다음 시리즈 객체의 인덱스에서 연도만 가져오세요.\n",
    "\n",
    "import pandas as pd\n",
    "\n",
    "index = pd.to_datetime( ['20200101', '20210101', '20220101'] )\n",
    "data = [100, 200, 300]\n",
    "s = pd.Series(data=data, index=index)"
   ]
  },
  {
   "cell_type": "code",
   "execution_count": null,
   "metadata": {},
   "outputs": [],
   "source": [
    "s.index.year"
   ]
  },
  {
   "cell_type": "markdown",
   "metadata": {},
   "source": [
    "# 127\n",
    "\n",
    "strftime\n",
    "\n",
    "시리즈 객체에는 인덱스가 datetime64 타입으로 저장돼 있습니다.\n",
    "\n",
    "import pandas as pd\n",
    "\n",
    "index = pd.to_datetime( ['20200101', '20210101', '20220101'] )\n",
    "data = [100, 200, 300]\n",
    "s = pd.Series(data=data, index=index)\n",
    "시리즈의 인덱스를 다음 포맷의 문자열로 변경하세요.\n",
    "\n",
    "2020-01-01 00:00:00    100\n",
    "2021-01-01 00:00:00    200\n",
    "2022-01-01 00:00:00    300\n",
    "dtype: int64"
   ]
  },
  {
   "cell_type": "code",
   "execution_count": null,
   "metadata": {},
   "outputs": [],
   "source": [
    "s.index.strftime(\"%Y-%m-%d 00:00:00\")"
   ]
  },
  {
   "cell_type": "markdown",
   "metadata": {},
   "source": [
    "# 128\n",
    "\n",
    "Series.str.cat\n",
    "\n",
    "다음 시리즈 객체는 3종목의 종목 코드를 저장하고 있습니다. 이를 다음과 같이 ';'로 구분된 문자열로 생성하세요.\n",
    "\n",
    "'000020;000040;005930'\n",
    "import pandas as pd\n",
    "\n",
    "s = pd.Series([\"000020\", \"000040\", \"005930\"])"
   ]
  },
  {
   "cell_type": "code",
   "execution_count": null,
   "metadata": {},
   "outputs": [],
   "source": [
    "s.join(';')"
   ]
  },
  {
   "cell_type": "markdown",
   "metadata": {},
   "source": [
    "# 129\n",
    "\n",
    "문자열 추가\n",
    "\n",
    "종목 코드를 저장하고 있는 시리즈 객체의 종목 코드에 'A'를 추가하세요.\n",
    "\n",
    "import pandas as pd\n",
    "\n",
    "s = pd.Series([\"000020\", \"000040\", \"005930\"])"
   ]
  },
  {
   "cell_type": "code",
   "execution_count": null,
   "metadata": {},
   "outputs": [],
   "source": [
    "'A'+s"
   ]
  },
  {
   "cell_type": "markdown",
   "metadata": {},
   "source": [
    "# 130\n",
    "\n",
    "Series.str.zfill\n",
    "\n",
    "국내 주식은 6자리의 숫자로 구성됩니다. 다음 시리즈 객체는 각 값에서 leading zero가 모두 제가된 상태입니다. 이를 다시 원래 종목 코드로 변환하세요. 예를 들어, \"20\"은 \"000020\"이 되어야합니다.\n",
    "\n",
    "import pandas as pd\n",
    "\n",
    "s = pd.Series([\"20\", \"40\", \"5930\"])"
   ]
  },
  {
   "cell_type": "code",
   "execution_count": null,
   "metadata": {},
   "outputs": [],
   "source": [
    "s.str.zfill(6)"
   ]
  }
 ],
 "metadata": {
  "kernelspec": {
   "display_name": "yeardream",
   "language": "python",
   "name": "python3"
  },
  "language_info": {
   "codemirror_mode": {
    "name": "ipython",
    "version": 3
   },
   "file_extension": ".py",
   "mimetype": "text/x-python",
   "name": "python",
   "nbconvert_exporter": "python",
   "pygments_lexer": "ipython3",
   "version": "3.12.1"
  }
 },
 "nbformat": 4,
 "nbformat_minor": 2
}
