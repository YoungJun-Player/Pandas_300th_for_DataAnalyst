{
 "cells": [
  {
   "cell_type": "code",
   "execution_count": 2,
   "metadata": {},
   "outputs": [],
   "source": [
    "import numpy as np"
   ]
  },
  {
   "cell_type": "markdown",
   "metadata": {},
   "source": [
    "# 131\n",
    "\n",
    "데이터프레임 컬럼 문자열 다루기\n",
    "\n",
    "다음 데이터프레임의 'cd' 컬럼의 'A'를 제거하세요.\n",
    "\n",
    "from pandas import DataFrame\n",
    "import numpy as np\n",
    "\n",
    "data = [\n",
    "    {\"cd\":\"A060310\", \"nm\":\"3S\", \"close\":\"2,920\"},\n",
    "    {\"cd\":\"A095570\", \"nm\":\"AJ네트웍스\", \"close\":\"6,250\"},\n",
    "    {\"cd\":\"A006840\", \"nm\":\"AK홀딩스\", \"close\":\"29,700\"},\n",
    "    {\"cd\":\"A054620\", \"nm\":\"APS홀딩스\", \"close\":\"19,400\"}\n",
    "]\n",
    "df = DataFrame(data=data)"
   ]
  },
  {
   "cell_type": "code",
   "execution_count": 3,
   "metadata": {},
   "outputs": [
    {
     "data": {
      "text/plain": [
       "array([-1, -3])"
      ]
     },
     "execution_count": 3,
     "metadata": {},
     "output_type": "execute_result"
    }
   ],
   "source": [
    "df['cd'].str[1:]"
   ]
  },
  {
   "cell_type": "markdown",
   "metadata": {},
   "source": [
    "# 132\n",
    "\n",
    "데이터프레임 문자열 컬럼\n",
    "\n",
    "위 데이터프레임에서 'close' 컬럼의 콤마를 제거한 후 np.int64 타입으로 변경하세요."
   ]
  },
  {
   "cell_type": "code",
   "execution_count": 11,
   "metadata": {},
   "outputs": [],
   "source": [
    "df['close'].replace(\",\",'').astype('np.int64')"
   ]
  },
  {
   "cell_type": "markdown",
   "metadata": {},
   "source": [
    "# 133\n",
    "\n",
    "DataFrame dropna\n",
    "\n",
    "다음 데이터프레임에서 np.nan 값이 있는 모든 행을 제거하세요.\n",
    "\n",
    "data = [\n",
    "    [1, 2, 3],\n",
    "    [np.nan, 5, 6],\n",
    "    [7, np.nan, 9],\n",
    "    [10, 11, np.nan]\n",
    "]\n",
    "df = pd.DataFrame(data)"
   ]
  },
  {
   "cell_type": "code",
   "execution_count": 12,
   "metadata": {},
   "outputs": [],
   "source": [
    "df.dropna()"
   ]
  },
  {
   "cell_type": "markdown",
   "metadata": {},
   "source": [
    "# 134\n",
    "\n",
    "dataframe.dropna (subset)\n",
    "\n",
    "다음 데이터프레임에서 col2 컬럼의 값에 NaN이 포함된 행만 제거하세요.\n",
    "\n",
    "import pandas as pd\n",
    "import numpy as np\n",
    "\n",
    "data = [\n",
    "    [1, 1, np.nan],\n",
    "    [10, np.nan, 10],\n",
    "    [2, 3, 4]\n",
    "]\n",
    "columns = ['col0', 'col1', 'col2']\n",
    "df = pd.DataFrame(data, columns=columns)"
   ]
  },
  {
   "cell_type": "code",
   "execution_count": 13,
   "metadata": {},
   "outputs": [],
   "source": [
    "df.dropna(subset ='col2')"
   ]
  },
  {
   "cell_type": "markdown",
   "metadata": {},
   "source": [
    "# 135\n",
    "\n",
    "dataframe.fillna\n",
    "\n",
    "다음 데이터프레임의 NaN 값을 0으로 채우세요.\n",
    "\n",
    "import pandas as pd\n",
    "import numpy as np\n",
    "\n",
    "data = [\n",
    "    [1, 1, np.nan],\n",
    "    [10, np.nan, 10],\n",
    "    [2, 3, 4]\n",
    "]\n",
    "columns = ['col0', 'col1', 'col2']\n",
    "df = pd.DataFrame(data, columns=columns)\n",
    "\n"
   ]
  },
  {
   "cell_type": "code",
   "execution_count": 15,
   "metadata": {},
   "outputs": [],
   "source": [
    "df.fillna(0)"
   ]
  },
  {
   "cell_type": "markdown",
   "metadata": {},
   "source": [
    "# 136\n",
    "\n",
    "fillna (method)\n",
    "\n",
    "다음 데이터프레임에서 NaN 값을 동일 컬럼의 이전 값으로 채우세요.\n",
    "\n",
    "import pandas as pd\n",
    "import numpy as np\n",
    "\n",
    "data = [\n",
    "    [1, 1, np.nan],\n",
    "    [10, np.nan, 10],\n",
    "    [2, 3, 4]\n",
    "]\n",
    "columns = ['col0', 'col1', 'col2']\n",
    "df = pd.DataFrame(data, columns=columns)"
   ]
  },
  {
   "cell_type": "code",
   "execution_count": null,
   "metadata": {},
   "outputs": [],
   "source": [
    "df.fillna(method='ffill')"
   ]
  },
  {
   "cell_type": "markdown",
   "metadata": {},
   "source": [
    "# 137\n",
    "\n",
    "dataframe.isna()\n",
    "\n",
    "다음 데이터프레임에서 isna 메서드를 호출해보세요.\n",
    "\n",
    "import pandas as pd\n",
    "import numpy as np\n",
    "\n",
    "data = [\n",
    "    [1, 1, np.nan],\n",
    "    [10, np.nan, 10],\n",
    "    [2, 3, 4]\n",
    "]\n",
    "columns = ['col0', 'col1', 'col2']\n",
    "df = pd.DataFrame(data, columns=columns)"
   ]
  },
  {
   "cell_type": "code",
   "execution_count": null,
   "metadata": {},
   "outputs": [],
   "source": [
    "df.isna()"
   ]
  },
  {
   "cell_type": "markdown",
   "metadata": {},
   "source": [
    "# 138\n",
    "\n",
    "dataframe.notna\n",
    "\n",
    "위 데이터프레임에 대해서 notna 메서드를 호출해보세요."
   ]
  },
  {
   "cell_type": "code",
   "execution_count": null,
   "metadata": {},
   "outputs": [],
   "source": [
    "df.notna()"
   ]
  },
  {
   "cell_type": "markdown",
   "metadata": {},
   "source": [
    "# 139\n",
    "\n",
    "dataframe replace\n",
    "\n",
    "다음 데이터프레임에서 0을 100으로 변경하세요.\n",
    "\n",
    "import pandas as pd\n",
    "import numpy as np\n",
    "\n",
    "data = np.arange(9).reshape(3, 3)\n",
    "df = pd.DataFrame(data)"
   ]
  },
  {
   "cell_type": "code",
   "execution_count": null,
   "metadata": {},
   "outputs": [],
   "source": [
    "df.replace(0,100)"
   ]
  },
  {
   "cell_type": "markdown",
   "metadata": {},
   "source": [
    "# 140\n",
    "\n",
    "astype\n",
    "\n",
    "다음 데이터프레임의 'fruit' 컬럼의 타입을 object에서 category로 변경하세요.\n",
    "\n",
    "import pandas as pd\n",
    "\n",
    "data = {\n",
    "    'fruit': ['apple', 'orange', 'orange', 'apple', 'apple', 'apple'],\n",
    "    'weight': [1.5, 1.3, 3.7, 2.4, 1.7, 1.8]\n",
    "}\n",
    "df = pd.DataFrame(data)"
   ]
  },
  {
   "cell_type": "code",
   "execution_count": 22,
   "metadata": {},
   "outputs": [
    {
     "data": {
      "text/plain": [
       "array([1, 2, 3, 4])"
      ]
     },
     "execution_count": 22,
     "metadata": {},
     "output_type": "execute_result"
    }
   ],
   "source": [
    "df['fruit'].astype('category')"
   ]
  }
 ],
 "metadata": {
  "kernelspec": {
   "display_name": "yeardream",
   "language": "python",
   "name": "python3"
  },
  "language_info": {
   "codemirror_mode": {
    "name": "ipython",
    "version": 3
   },
   "file_extension": ".py",
   "mimetype": "text/x-python",
   "name": "python",
   "nbconvert_exporter": "python",
   "pygments_lexer": "ipython3",
   "version": "3.9.19"
  }
 },
 "nbformat": 4,
 "nbformat_minor": 2
}
