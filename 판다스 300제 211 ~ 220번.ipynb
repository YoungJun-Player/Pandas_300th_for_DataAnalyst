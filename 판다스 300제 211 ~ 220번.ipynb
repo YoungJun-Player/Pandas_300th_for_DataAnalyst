{
 "cells": [
  {
   "cell_type": "code",
   "execution_count": 2,
   "metadata": {},
   "outputs": [],
   "source": [
    "import numpy as np\n",
    "import pandas as pd\n",
    "from datetime import datetime"
   ]
  },
  {
   "cell_type": "markdown",
   "metadata": {},
   "source": [
    "# 211\n",
    "\n",
    "pyplot\n",
    "matplotlib.pyplot 모듈을 plt 라는 이름으로 임포트하세요.."
   ]
  },
  {
   "cell_type": "code",
   "execution_count": 1,
   "metadata": {},
   "outputs": [],
   "source": [
    "import matplotlib.pyplot as plt"
   ]
  },
  {
   "cell_type": "markdown",
   "metadata": {},
   "source": [
    "# 212\n",
    "\n",
    "series.plot\n",
    "\n",
    "다음 코드를 주피터노트북에 입력하여 FinanceDataReader 모듈을 설치합니다.\n",
    "\n",
    "!pip install finance-datareader\n",
    "다음 코드를 실행하여 코스피 지수 데이터를 읽고 2021년 데이터만 선택합니다.\n",
    "\n",
    "import FinanceDataReader as fdr\n",
    "\n",
    "df = fdr.DataReader(\"KS11\")\n",
    "df2021 = df.loc['2021']\n",
    "df2021의 Close 컬럼을 plot 메서드를 호출하여 그려보세요.\n",
    "\n",
    "\n",
    "\n"
   ]
  },
  {
   "cell_type": "code",
   "execution_count": 11,
   "metadata": {},
   "outputs": [],
   "source": [
    "df2021['Close'].plot()"
   ]
  },
  {
   "cell_type": "markdown",
   "metadata": {},
   "source": [
    "# 213\n",
    "\n",
    "bar plot\n",
    "iris 데이터에서 species별 sepal_length의 평균을 구한 후 이를 'bar' 타입으로 그려보세요.\n",
    "\n",
    "import seaborn as sns\n",
    "\n",
    "iris = sns.load_dataset(\"iris\")"
   ]
  },
  {
   "cell_type": "code",
   "execution_count": 12,
   "metadata": {},
   "outputs": [],
   "source": [
    "iris.groupby('species')['sepal_length'].mean().plot(kind='bar')\n"
   ]
  },
  {
   "cell_type": "markdown",
   "metadata": {},
   "source": [
    "# 214\n",
    "\n",
    "DataFrame.plot.barh\n",
    "\n",
    "iris 데이터에서 품종별 특징값들의 평균을 구한 후 이를 barh 형태로 그려보세요.\n",
    "\n",
    "\n",
    "\n"
   ]
  },
  {
   "cell_type": "code",
   "execution_count": 13,
   "metadata": {},
   "outputs": [],
   "source": [
    "iris.groupby('species').mean().plot.barh()\n"
   ]
  },
  {
   "cell_type": "markdown",
   "metadata": {},
   "source": [
    "# 215\n",
    "\n",
    "DataFrame.T and barh\n",
    "\n",
    "iris 데이터에서 품종별 특징값들의 평균을 구한 후 이를 transpose하고 barh 형태로 그려보세요.\n",
    "\n"
   ]
  },
  {
   "cell_type": "code",
   "execution_count": 15,
   "metadata": {},
   "outputs": [],
   "source": [
    "iris.groupby('species').mean().T.plot.barh()\n"
   ]
  },
  {
   "cell_type": "markdown",
   "metadata": {},
   "source": [
    "# 216\n",
    "\n",
    "pandas.Series.plot.pie\n",
    "\n",
    "iris 데이터에서 품좀별 데이터의 개수를 파이 차트 형태로 그려보세요.\n",
    "\n"
   ]
  },
  {
   "cell_type": "code",
   "execution_count": null,
   "metadata": {},
   "outputs": [],
   "source": [
    "s = iris.groupby('species')['sepal_length'].count()\n",
    "s.name = \"\"\n",
    "s.plot.pie(autopct=\"%.2f%%\")"
   ]
  },
  {
   "cell_type": "markdown",
   "metadata": {},
   "source": [
    "# 217\n",
    "\n",
    "seaborn.scatterplot\n",
    "seaborn의 scatterplot 함수를 사용하여 iris 데이터에서 품좀별 petal_length와 petal_width를 scatter 타입으로 그려보세요.\n",
    "\n"
   ]
  },
  {
   "cell_type": "code",
   "execution_count": null,
   "metadata": {},
   "outputs": [],
   "source": [
    "import seaborn as sns\n",
    "\n",
    "sns.scatterplot(\n",
    "    x='petal_width',\n",
    "    y='petal_length',\n",
    "    hue='species',\n",
    "    data=iris\n",
    ")"
   ]
  },
  {
   "cell_type": "markdown",
   "metadata": {},
   "source": [
    "# 218\n",
    "\n",
    "seaborn.boxplot\n",
    "seaborn 모듈의 boxplot 함수를 사용하여 다음과 같이 그려보세요.\n",
    "\n"
   ]
  },
  {
   "cell_type": "code",
   "execution_count": null,
   "metadata": {},
   "outputs": [],
   "source": [
    "sns.boxplot(\n",
    "    x='species',\n",
    "    y='petal_length',\n",
    "    data=iris\n",
    ")"
   ]
  },
  {
   "cell_type": "markdown",
   "metadata": {},
   "source": [
    "# 219\n",
    "\n",
    "seaborn.kdeplot\n",
    "\n",
    "seaborn kdeplot 함수를 사용하여 iris 데이터로부터 다음과 같이 그려보세요.\n",
    "\n"
   ]
  },
  {
   "cell_type": "code",
   "execution_count": null,
   "metadata": {},
   "outputs": [],
   "source": [
    "sns.kdeplot(\n",
    "    data=iris,\n",
    "    x='petal_length',\n",
    "    hue='species'\n",
    ")"
   ]
  },
  {
   "cell_type": "markdown",
   "metadata": {},
   "source": [
    "# 220\n",
    "\n",
    "seaborn.FacetGrid\n",
    "\n",
    "seaborn의 FacetGrid를 사용해서 다음과 같이 품좀별 히스토그램을 그려보세요.\n",
    "\n"
   ]
  },
  {
   "cell_type": "code",
   "execution_count": null,
   "metadata": {},
   "outputs": [],
   "source": [
    "g = sns.FacetGrid(iris, col='species')\n",
    "g.set(xlim=(0, 10))\n",
    "g.map(sns.histplot, 'petal_length')"
   ]
  }
 ],
 "metadata": {
  "kernelspec": {
   "display_name": "yeardream",
   "language": "python",
   "name": "python3"
  },
  "language_info": {
   "codemirror_mode": {
    "name": "ipython",
    "version": 3
   },
   "file_extension": ".py",
   "mimetype": "text/x-python",
   "name": "python",
   "nbconvert_exporter": "python",
   "pygments_lexer": "ipython3",
   "version": "3.12.1"
  }
 },
 "nbformat": 4,
 "nbformat_minor": 2
}
