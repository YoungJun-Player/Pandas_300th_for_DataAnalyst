{
 "cells": [
  {
   "cell_type": "code",
   "execution_count": 2,
   "metadata": {},
   "outputs": [],
   "source": [
    "import numpy as np\n",
    "import pandas as pd\n",
    "from datetime import datetime"
   ]
  },
  {
   "cell_type": "markdown",
   "metadata": {},
   "source": [
    "# 221\n",
    "\n",
    "datetime now\n",
    "\n",
    "datetime 모듈을 사용하여 현재 시간을 출력하세요."
   ]
  },
  {
   "cell_type": "code",
   "execution_count": 1,
   "metadata": {},
   "outputs": [],
   "source": [
    "from datetime import datetime\n",
    "now = datetime.now()\n",
    "print(now)"
   ]
  },
  {
   "cell_type": "markdown",
   "metadata": {},
   "source": [
    "# 222\n",
    "\n",
    "datetime year, month, day\n",
    "\n",
    "datetime 모듈을 사용하여 연도, 월, 일을 출력하세요.\n",
    "\n",
    "from datetime import datetime\n",
    "now = datetime.now()\n",
    "\n",
    "\n",
    "\n"
   ]
  },
  {
   "cell_type": "code",
   "execution_count": 11,
   "metadata": {},
   "outputs": [],
   "source": [
    "print(now.year, now.month, now.day)"
   ]
  },
  {
   "cell_type": "markdown",
   "metadata": {},
   "source": [
    "# 223\n",
    "\n",
    "timedelta\n",
    "\n",
    "현재 시간으로부터 하루 뒤의 시각을 출력하세요."
   ]
  },
  {
   "cell_type": "code",
   "execution_count": 12,
   "metadata": {},
   "outputs": [],
   "source": [
    "from datetime import datetime\n",
    "from datetime import timedelta\n",
    "\n",
    "now = datetime.now()\n",
    "tomorrow = now + timedelta(days=1)\n",
    "print(tomorrow)\n"
   ]
  },
  {
   "cell_type": "markdown",
   "metadata": {},
   "source": [
    "# 224\n",
    "\n",
    "timedelta\n",
    "현재 시간으로부터 하루 전의 시각을 출력하세요."
   ]
  },
  {
   "cell_type": "code",
   "execution_count": 13,
   "metadata": {},
   "outputs": [],
   "source": [
    "from datetime import datetime\n",
    "from datetime import timedelta\n",
    "\n",
    "now = datetime.now()\n",
    "tomorrow = now - timedelta(days=1)\n",
    "print(tomorrow)\n"
   ]
  },
  {
   "cell_type": "markdown",
   "metadata": {},
   "source": [
    "# 225\n",
    "\n",
    "timedelta\n",
    "\n",
    "한국 표준시(KST)는 세계 협정시(UTC) 보다 9시간 빠릅니다. 현재 시간을 구한 후 timedelta를 사용하여 UTC를 계산하세요.\n",
    "\n",
    "from datetime import datetime\n",
    "now = datetime.now()"
   ]
  },
  {
   "cell_type": "code",
   "execution_count": 15,
   "metadata": {},
   "outputs": [],
   "source": [
    "from datetime import datetime\n",
    "from datetime import timedelta\n",
    "\n",
    "now = datetime.now()\n",
    "utc = now - timedelta(hours=9)\n",
    "print(utc)\n"
   ]
  },
  {
   "cell_type": "markdown",
   "metadata": {},
   "source": [
    "# 226\n",
    "\n",
    "strftime\n",
    "\n",
    "현재 시간을 얻어온 후 \"연도-월-일\"과 같은 문자열 포맷으로 변환하세요.\n",
    "\n",
    "from datetime import datetime\n",
    "\n",
    "now = datetime.now()"
   ]
  },
  {
   "cell_type": "code",
   "execution_count": null,
   "metadata": {},
   "outputs": [],
   "source": [
    "now.strftime(\"%Y-%m-%d\")"
   ]
  },
  {
   "cell_type": "markdown",
   "metadata": {},
   "source": [
    "# 227\n",
    "\n",
    "strftime\n",
    "\n",
    "현재 시간을 얻어온 후 '2022-09-09 09:39:18'와 같은 포맷의 문자열로 변경하세요.\n",
    "\n",
    "from datetime import datetime\n",
    "\n",
    "now = datetime.now()"
   ]
  },
  {
   "cell_type": "code",
   "execution_count": null,
   "metadata": {},
   "outputs": [],
   "source": [
    "now.strftime(\"%Y-%m-%d %H:%M:%S\")"
   ]
  },
  {
   "cell_type": "markdown",
   "metadata": {},
   "source": [
    "# 228\n",
    "\n",
    "strptime\n",
    "\n",
    "strptime 메서드를 사용해서 \"2023-01-01 00:00:00\" 포맷의 문자열을 datetime 타입의 객체로 변환하세요.\n",
    "\n",
    "dt_fmt = \"2023-01-01 00:00:00\" "
   ]
  },
  {
   "cell_type": "code",
   "execution_count": null,
   "metadata": {},
   "outputs": [],
   "source": [
    "from datetime import datetime\n",
    "dt_fmt = \"2023-01-01 00:00:00\" \n",
    "datetime.strptime(dt_fmt, \"%Y-%m-%d %H:%M:%S\")"
   ]
  },
  {
   "cell_type": "markdown",
   "metadata": {},
   "source": [
    "# 229\n",
    "\n",
    "pandas.to_datetime\n",
    "\n",
    "date_fmt 리스트에는 문자열로 표현된 날짜가 저장되어 있습니다. 이를 pandas.to_datetime 함수를 사용해서 DatetimeIndex 타입으로 변경하세요.\n",
    "\n",
    "date_fmt = [\"2022-09-09 00:00:00\", \"2022-09-09 00:00:01\", \"2022-09-09 00:00:02\"]"
   ]
  },
  {
   "cell_type": "code",
   "execution_count": null,
   "metadata": {},
   "outputs": [],
   "source": [
    "import pandas as pd\n",
    "\n",
    "date_fmt = [\"2022-09-09 00:00:00\", \"2022-09-09 00:00:01\", \"2022-09-09 00:00:02\"]\n",
    "ts = pd.to_datetime(date_fmt)"
   ]
  },
  {
   "cell_type": "markdown",
   "metadata": {},
   "source": [
    "# 230\n",
    "\n",
    "datetime 객체 생성\n",
    "\n",
    "'2023-01-01 00:00:00' 시각을 datetime 클래스의 객체로 생성하세요."
   ]
  },
  {
   "cell_type": "code",
   "execution_count": null,
   "metadata": {},
   "outputs": [],
   "source": [
    "from datetime import datetime \n",
    "\n",
    "dt = datetime(year=2023, month=1, day=1, hour=0, minute=0, second=0)\n",
    "dt"
   ]
  }
 ],
 "metadata": {
  "kernelspec": {
   "display_name": "yeardream",
   "language": "python",
   "name": "python3"
  },
  "language_info": {
   "codemirror_mode": {
    "name": "ipython",
    "version": 3
   },
   "file_extension": ".py",
   "mimetype": "text/x-python",
   "name": "python",
   "nbconvert_exporter": "python",
   "pygments_lexer": "ipython3",
   "version": "3.12.1"
  }
 },
 "nbformat": 4,
 "nbformat_minor": 2
}
