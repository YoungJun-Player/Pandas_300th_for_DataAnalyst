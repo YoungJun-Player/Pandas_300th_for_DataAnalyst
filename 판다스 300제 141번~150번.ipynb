{
 "cells": [
  {
   "cell_type": "code",
   "execution_count": 2,
   "metadata": {},
   "outputs": [],
   "source": [
    "import numpy as np"
   ]
  },
  {
   "cell_type": "markdown",
   "metadata": {},
   "source": [
    "# 141\n",
    "\n",
    "DataFrame.query\n",
    "\n",
    "데이터프레임 query 메서드를 사용하여 종가(close)가 시가(open)보다 큰 데이터만 가져오세요.\n",
    "\n",
    "data = [\n",
    "    {\"cd\":\"A060310\", \"nm\":\"3S\", \"open\":2920, \"close\":2800},\n",
    "    {\"cd\":\"A095570\", \"nm\":\"AJ네트웍스\", \"open\":1920, \"close\":1900},\n",
    "    {\"cd\":\"A006840\", \"nm\":\"AK홀딩스\", \"open\":2020, \"close\":2010},\n",
    "    {\"cd\":\"A054620\", \"nm\":\"APS홀딩스\", \"open\":3120, \"close\":3200}\n",
    "]\n",
    "df = DataFrame(data=data)\n",
    "df = df.set_index('cd')\n"
   ]
  },
  {
   "cell_type": "code",
   "execution_count": null,
   "metadata": {},
   "outputs": [],
   "source": [
    "df.query('close > open')"
   ]
  },
  {
   "cell_type": "markdown",
   "metadata": {},
   "source": [
    "# 142\n",
    "\n",
    "DataFrame.query\n",
    "\n",
    "위 데이터프레임에서 종가(close)가 3,000원 이상인 종목만 출력하세요."
   ]
  },
  {
   "cell_type": "code",
   "execution_count": 11,
   "metadata": {},
   "outputs": [],
   "source": [
    "df.query('close > 3000')"
   ]
  },
  {
   "cell_type": "markdown",
   "metadata": {},
   "source": [
    "# 143\n",
    "\n",
    "query 여러 조건\n",
    "\n",
    "위 데이터프레임에서 시가(open)가 2,000원 이상이고 종가(close)가 시가(open)이상인 종목을 출력하세요."
   ]
  },
  {
   "cell_type": "code",
   "execution_count": 12,
   "metadata": {},
   "outputs": [],
   "source": [
    "df.query('close>=open & open >= 2000')"
   ]
  },
  {
   "cell_type": "markdown",
   "metadata": {},
   "source": [
    "# 144\n",
    "\n",
    "query 와 str.startwith\n",
    "\n",
    "위 데이터프레임에서 종목명(nm)이 'A'로 시작하는 종목만 선택하세요."
   ]
  },
  {
   "cell_type": "code",
   "execution_count": 13,
   "metadata": {},
   "outputs": [],
   "source": [
    "df.query(nm.str.startwith('A'))"
   ]
  },
  {
   "cell_type": "markdown",
   "metadata": {},
   "source": [
    "# 145\n",
    "\n",
    "query 와 str.contains\n",
    "\n",
    "위 데이터프레임에서 종목명에 '홀딩스'가 포함된 종목만 선택하세요."
   ]
  },
  {
   "cell_type": "code",
   "execution_count": 15,
   "metadata": {},
   "outputs": [],
   "source": [
    "df.query(\"nm.str.contains('홀딩스')\")"
   ]
  },
  {
   "cell_type": "markdown",
   "metadata": {},
   "source": [
    "# 146\n",
    "\n",
    "query backtick\n",
    "\n",
    "다음 데이터프레임에서 'col 0' 컬럼의 값이 0인 데이터만 선택하세요.\n",
    "\n",
    "data = np.arange(6).reshape(2,3)\n",
    "columns = ['col 0', 'col 1', 'col 2']\n",
    "df = DataFrame(data=data, index=index, columns=columns)"
   ]
  },
  {
   "cell_type": "code",
   "execution_count": null,
   "metadata": {},
   "outputs": [],
   "source": [
    "df.query(\"`col 0` == 0\")"
   ]
  },
  {
   "cell_type": "markdown",
   "metadata": {},
   "source": [
    "# 147\n",
    "\n",
    "DataFrame filter\n",
    "\n",
    "다음 데이터프레임에서 filter 메서드를 사용해서 \"PER\"과 \"PBR\" 컬럼만 선택하세요.\n",
    "\n",
    "data = {\n",
    "    \"PER\": [6.42, 17.63, 21.09, 13.93],\n",
    "    \"PBR\": [1.10, 1.49, 2.06, 1.88],\n",
    "    \"DPS\": [1416, 1716, 2994, 1755]\n",
    "}\n",
    "index = [\"2019/12\", \"2020/12\", \"2021/12\", \"2022/12(E)\"]\n",
    "df = pd.DataFrame(data=data, index=index)"
   ]
  },
  {
   "cell_type": "code",
   "execution_count": null,
   "metadata": {},
   "outputs": [],
   "source": [
    "df.filter(items=[\"PER\", \"PBR\"])"
   ]
  },
  {
   "cell_type": "markdown",
   "metadata": {},
   "source": [
    "# 148\n",
    "\n",
    "DataFrame filter 정규식\n",
    "\n",
    "위 데이터프레임에서 filter 메서드의 정규식을 사용해서 'PER'과 'PBR' 컬럼을 선택하세요."
   ]
  },
  {
   "cell_type": "code",
   "execution_count": null,
   "metadata": {},
   "outputs": [],
   "source": [
    "df.filter(regex=\"P.R\", axis=1)"
   ]
  },
  {
   "cell_type": "markdown",
   "metadata": {},
   "source": [
    "# 149\n",
    "\n",
    "데이터프레임 filter 정규식 (index)\n",
    "\n",
    "위 데이터프레임에서 filter 메서드를 사용해서 예상치인 '2022/12(E)'를 제외한 나머지 로우 데이터를 선택하세요."
   ]
  },
  {
   "cell_type": "code",
   "execution_count": null,
   "metadata": {},
   "outputs": [],
   "source": [
    "df.filter(regex=\"12$\", axis=0)"
   ]
  },
  {
   "cell_type": "markdown",
   "metadata": {},
   "source": [
    "# 150\n",
    "\n",
    "데이터프레임 filter like\n",
    "\n",
    "위 데이터프레임에서 \"2022\"년 데이터만 선택하세요. 2022년 데이터는 인덱스에 '2022'라는 문자열이 포함되어있습니다."
   ]
  },
  {
   "cell_type": "code",
   "execution_count": null,
   "metadata": {},
   "outputs": [],
   "source": [
    "df.filter(like=\"2022\", axis=0)"
   ]
  }
 ],
 "metadata": {
  "kernelspec": {
   "display_name": "yeardream",
   "language": "python",
   "name": "python3"
  },
  "language_info": {
   "codemirror_mode": {
    "name": "ipython",
    "version": 3
   },
   "file_extension": ".py",
   "mimetype": "text/x-python",
   "name": "python",
   "nbconvert_exporter": "python",
   "pygments_lexer": "ipython3",
   "version": "3.9.19"
  }
 },
 "nbformat": 4,
 "nbformat_minor": 2
}
