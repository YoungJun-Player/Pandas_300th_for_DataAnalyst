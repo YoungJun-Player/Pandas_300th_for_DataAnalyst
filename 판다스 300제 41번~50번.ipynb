{
 "cells": [
  {
   "cell_type": "code",
   "execution_count": 2,
   "metadata": {},
   "outputs": [],
   "source": [
    "import numpy as np"
   ]
  },
  {
   "cell_type": "markdown",
   "metadata": {},
   "source": [
    "# 041\n",
    "\n",
    "조건에 맞는 원소값 출력\n",
    "\n",
    "다음 ndarray 객체에서 음수를 출력하세요.\n",
    "\n",
    "arr = np.array([-1, 2, -3, 4])"
   ]
  },
  {
   "cell_type": "code",
   "execution_count": 3,
   "metadata": {},
   "outputs": [
    {
     "data": {
      "text/plain": [
       "array([-1, -3])"
      ]
     },
     "execution_count": 3,
     "metadata": {},
     "output_type": "execute_result"
    }
   ],
   "source": [
    "arr = np.array([-1, 2, -3, 4])\n",
    "\n",
    "arr[arr<0]"
   ]
  },
  {
   "cell_type": "markdown",
   "metadata": {},
   "source": [
    "# 042\n",
    "\n",
    "조건에 맞는 원소값 변경\n",
    "\n",
    "다음 ndarray 객체에서 음수를 0으로 치환하세요\n",
    "\n",
    "arr = np.array([-1, 2, -3, 4])"
   ]
  },
  {
   "cell_type": "code",
   "execution_count": 11,
   "metadata": {},
   "outputs": [],
   "source": [
    "arr = np.array([-1, 2, -3, 4])\n",
    "\n",
    "arr[arr<0] = 0"
   ]
  },
  {
   "cell_type": "markdown",
   "metadata": {},
   "source": [
    "# 043\n",
    "\n",
    "조건에 맞는 원소값 변경\n",
    "\n",
    "다음 ndarray 객체에서 음수를 양수로 변환하세요\n",
    "\n",
    "arr = np.array([-1, 2, -3, 4])"
   ]
  },
  {
   "cell_type": "code",
   "execution_count": 12,
   "metadata": {},
   "outputs": [],
   "source": [
    "arr = np.array([-1, 2, -3, 4])\n",
    "\n",
    "a = arr<0 \n",
    "\n",
    "arr[a] = -arr[a]"
   ]
  },
  {
   "cell_type": "markdown",
   "metadata": {},
   "source": [
    "# 044\n",
    "\n",
    "조건에 맞는 원소값 변경\n",
    "\n",
    "다음 ndarray 객체에서 양수 혹은 0이면 10을 더하고 음수는 10을 빼세요.\n",
    "\n",
    "arr = np.array([-1, 2, -3, 4])"
   ]
  },
  {
   "cell_type": "code",
   "execution_count": 13,
   "metadata": {},
   "outputs": [],
   "source": [
    "arr = np.array([-1, 2, -3, 4])\n",
    "\n",
    "a = arr>0\n",
    "b = arr<0\n",
    "\n",
    "arr[a] = arr[a]+10\n",
    "arr[b] = arr[b]-10"
   ]
  },
  {
   "cell_type": "markdown",
   "metadata": {},
   "source": [
    "# 045\n",
    "\n",
    "shuffle\n",
    "\n",
    "numpy random 모듈의 shuffle 함수를 사용해서 입력 리스트의 원소들을 랜덤하게 섞어 보세요.\n",
    "\n",
    "arr = [1, 2, 3, 4, 5]\n"
   ]
  },
  {
   "cell_type": "code",
   "execution_count": 15,
   "metadata": {},
   "outputs": [],
   "source": [
    "arr = [1, 2, 3, 4, 5]\n",
    "\n",
    "np.random.shuffle(arr)"
   ]
  },
  {
   "cell_type": "markdown",
   "metadata": {},
   "source": [
    "# 046\n",
    "\n",
    "argmin\n",
    "\n",
    "다음 넘파일 배열에서 최솟값의 인덱스를 출력하세요.\n",
    "\n",
    "arr = np.array([1, 2, 3, 4, 5])"
   ]
  },
  {
   "cell_type": "markdown",
   "metadata": {},
   "source": [
    "arr = np.array([1, 2, 3, 4, 5])\n",
    "\n",
    "np.argmin(arr)"
   ]
  },
  {
   "cell_type": "markdown",
   "metadata": {},
   "source": [
    "# 047\n",
    "\n",
    "argmin\n",
    "\n",
    "다음 넘파일 배열에서 최댓값의 인덱스를 출력하세요.\n",
    "\n",
    "arr = np.array([1, 2, 3, 4, 5])"
   ]
  },
  {
   "cell_type": "code",
   "execution_count": 16,
   "metadata": {},
   "outputs": [
    {
     "data": {
      "text/plain": [
       "4"
      ]
     },
     "execution_count": 16,
     "metadata": {},
     "output_type": "execute_result"
    }
   ],
   "source": [
    "\n",
    "arr = np.array([1, 2, 3, 4, 5])\n",
    "\n",
    "np.argmax(arr)"
   ]
  },
  {
   "cell_type": "markdown",
   "metadata": {},
   "source": [
    "# 048\n",
    "\n",
    "정렬\n",
    "\n",
    "다음 넘파이 배열을 오름차순 정렬해보세요.\n",
    "\n",
    "\n",
    "arr = np.array([2, 1, 5, 3, 7, 4, 6, 8])"
   ]
  },
  {
   "cell_type": "code",
   "execution_count": 18,
   "metadata": {},
   "outputs": [
    {
     "data": {
      "text/plain": [
       "array([1, 2, 3, 4, 5, 6, 7, 8])"
      ]
     },
     "execution_count": 18,
     "metadata": {},
     "output_type": "execute_result"
    }
   ],
   "source": [
    "arr = np.array([2, 1, 5, 3, 7, 4, 6, 8])\n",
    "\n",
    "np.sort(arr)"
   ]
  },
  {
   "cell_type": "markdown",
   "metadata": {},
   "source": [
    "# 049\n",
    "\n",
    "numpy.vstack\n",
    "\n",
    "numpy.vstack 함수를 사용하여 다음 2차원 배열을 생성하세요.\n",
    "\n",
    "array([[1, 2],\n",
    "       [3, 4]])\n",
    "       \n",
    "arr1 = np.array([1, 2])\n",
    "arr2 = np.array([3, 4])"
   ]
  },
  {
   "cell_type": "code",
   "execution_count": 20,
   "metadata": {},
   "outputs": [
    {
     "data": {
      "text/plain": [
       "array([[1, 2],\n",
       "       [3, 4]])"
      ]
     },
     "execution_count": 20,
     "metadata": {},
     "output_type": "execute_result"
    }
   ],
   "source": [
    "arr1 = np.array([1, 2])\n",
    "arr2 = np.array([3, 4])\n",
    "\n",
    "np.vstack((arr1,arr2))"
   ]
  },
  {
   "cell_type": "markdown",
   "metadata": {},
   "source": [
    "# 050\n",
    "\n",
    "flatten\n",
    "\n",
    "flatten 메서드를 사용하여 다음 배열을 1차원 배열로 변경하세요.\n",
    "\n",
    "arr = np.array([ [1, 2], [3, 4] ])"
   ]
  },
  {
   "cell_type": "code",
   "execution_count": 22,
   "metadata": {},
   "outputs": [
    {
     "data": {
      "text/plain": [
       "array([1, 2, 3, 4])"
      ]
     },
     "execution_count": 22,
     "metadata": {},
     "output_type": "execute_result"
    }
   ],
   "source": [
    "arr = np.array([ [1, 2], [3, 4] ])\n",
    "\n",
    "arr.flatten()"
   ]
  }
 ],
 "metadata": {
  "kernelspec": {
   "display_name": "yeardream",
   "language": "python",
   "name": "python3"
  },
  "language_info": {
   "codemirror_mode": {
    "name": "ipython",
    "version": 3
   },
   "file_extension": ".py",
   "mimetype": "text/x-python",
   "name": "python",
   "nbconvert_exporter": "python",
   "pygments_lexer": "ipython3",
   "version": "3.9.19"
  }
 },
 "nbformat": 4,
 "nbformat_minor": 2
}
