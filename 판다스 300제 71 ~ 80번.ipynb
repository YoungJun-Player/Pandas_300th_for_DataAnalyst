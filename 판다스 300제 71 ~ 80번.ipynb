{
 "cells": [
  {
   "cell_type": "code",
   "execution_count": null,
   "metadata": {},
   "outputs": [],
   "source": [
    "import numpy as np\n",
    "import pandas as pd"
   ]
  },
  {
   "cell_type": "markdown",
   "metadata": {},
   "source": [
    "# 071\n",
    "\n",
    "시리즈 타입\n",
    "\n",
    "다음 코드를 수행하면 어떤 데이터 타입을 출력되는지 이야기해보세요. 그리고 그 이유는 무엇인가요?\n",
    "\n",
    "import pandas as pd\n",
    "\n",
    "s = pd.Series([1, 2, 'python'])\n",
    "print(s.dtype)"
   ]
  },
  {
   "cell_type": "code",
   "execution_count": null,
   "metadata": {},
   "outputs": [],
   "source": [
    "'object'"
   ]
  },
  {
   "cell_type": "markdown",
   "metadata": {},
   "source": [
    "# 072\n",
    "\n",
    "시리즈 타입 변경\n",
    "\n",
    "다음 시리즈 객체의 데이터 타입을 int32로 변경해보세요.\n",
    "\n",
    "import pandas as pd\n",
    "\n",
    "s = pd.Series(['1', '2', '3'])"
   ]
  },
  {
   "cell_type": "code",
   "execution_count": 11,
   "metadata": {},
   "outputs": [],
   "source": [
    "s.astype('int32')"
   ]
  },
  {
   "cell_type": "markdown",
   "metadata": {},
   "source": [
    "# 073\n",
    "\n",
    "시리즈 데이터 타입 설정\n",
    "\n",
    "BTC 금액이 50000 달러, XRP 금액이 1 달러, ETH 금액이 4000 달러일 때 시리즈 객체로 생성하세요. 시리즈 객체를 생성할 때 가격의 데이터 타입을 float로 지정해서 생성하세요."
   ]
  },
  {
   "cell_type": "code",
   "execution_count": 12,
   "metadata": {},
   "outputs": [],
   "source": [
    "tickers = [\"BTC\", \"XRP\", \"ETH\"]\n",
    "prices = [50000, 1, 4000]\n",
    "\n",
    "s = series(data = prices, index = tickers, dtype = 'float')"
   ]
  },
  {
   "cell_type": "markdown",
   "metadata": {},
   "source": [
    "# 074\n",
    "\n",
    "시리즈 인덱싱 (대괄호 사용하기)\n",
    "\n",
    "다음 데이터를 시리즈 객체로 표현하세요. 그다음 대괄호([ ])을 사용하여 200을 출력하세요.\n",
    "\n",
    "data = [100, 200, 300]\n",
    "index = [\"철수\", \"영희\", \"아름\"]\n",
    "s = Series(data, index)"
   ]
  },
  {
   "cell_type": "code",
   "execution_count": 13,
   "metadata": {},
   "outputs": [],
   "source": [
    "data = [100, 200, 300]\n",
    "index = [\"철수\", \"영희\", \"아름\"]\n",
    "s = Series(data, index)\n",
    "\n",
    "s['영희']"
   ]
  },
  {
   "cell_type": "markdown",
   "metadata": {},
   "source": [
    "# 075\n",
    "\n",
    "시리즈 인덱싱 (iloc 속성 사용하기)\n",
    "\n",
    "다음 데이터를 시리즈 객체로 표현하세요. 그다음 iloc 속성을 사용하여 200을 출력하세요.\n",
    "\n",
    "data = [100, 200, 300]\n",
    "index = [\"철수\", \"영희\", \"아름\"]\n",
    "s = Series(data, index)\n"
   ]
  },
  {
   "cell_type": "code",
   "execution_count": 15,
   "metadata": {},
   "outputs": [],
   "source": [
    "s.iloc[1]"
   ]
  },
  {
   "cell_type": "markdown",
   "metadata": {},
   "source": [
    "# 076\n",
    "\n",
    "시리즈 인덱싱 (loc 속성 사용하기)\n",
    "\n",
    "다음 데이터를 시리즈 객체로 표현하세요. 그다음 loc 속성을 사용하여 200을 출력하세요.\n",
    "\n",
    "data = [100, 200, 300]\n",
    "index = [\"철수\", \"영희\", \"아름\"]\n",
    "s = Series(data, index)"
   ]
  },
  {
   "cell_type": "code",
   "execution_count": null,
   "metadata": {},
   "outputs": [],
   "source": [
    "s.loc['영희']"
   ]
  },
  {
   "cell_type": "markdown",
   "metadata": {},
   "source": [
    "# 077\n",
    "\n",
    "시리즈 인덱싱 (인덱스 사용하기)\n",
    "\n",
    "다음 데이터를 시리즈 객체로 표현하세요. 그다음 인덱스를 사용하여 200을 출력하세요.\n",
    "\n",
    "data = [100, 200, 300]\n",
    "index = [\"철수\", \"영희\", \"아름\"]\n",
    "s = Series(data, index)"
   ]
  },
  {
   "cell_type": "code",
   "execution_count": null,
   "metadata": {},
   "outputs": [],
   "source": [
    "s.\"영희"
   ]
  },
  {
   "cell_type": "markdown",
   "metadata": {},
   "source": [
    "# 078\n",
    "\n",
    "시리즈 슬라이싱\n",
    "\n",
    "시리즈에서 100과 200을 시리즈로 출력하라.\n",
    "\n",
    "data = [100, 200, 300]\n",
    "index = [\"철수\", \"영희\", \"아름\"]\n",
    "s = Series(data, index)"
   ]
  },
  {
   "cell_type": "code",
   "execution_count": null,
   "metadata": {},
   "outputs": [],
   "source": [
    "s[:2]"
   ]
  },
  {
   "cell_type": "markdown",
   "metadata": {},
   "source": [
    "# 079\n",
    "\n",
    "시리즈 슬라이싱\n",
    "\n",
    "시리즈에는 일자별 가격 정보가 저장돼 있다. 시리즈에서 상위 3개의 데이터의 날짜 (인덱스)를 출력하라.\n",
    "\n",
    "data = [100, 200, 300, 400, 500, 600]\n",
    "index = [\"08/01\", \"08/02\", \"08/03\", \"08/04\", \"08/05\", \"08/06\"]\n",
    "s = Series(data, index)\n",
    "Index(['08/01', '08/02', '08/03'], dtype='object')"
   ]
  },
  {
   "cell_type": "code",
   "execution_count": null,
   "metadata": {},
   "outputs": [],
   "source": [
    "s.iloc[:3]"
   ]
  },
  {
   "cell_type": "markdown",
   "metadata": {},
   "source": [
    "# 080\n",
    "\n",
    "시리즈 슬라이싱\n",
    "\n",
    "시리즈에서 100, 300, 500을 슬라이싱으로 출력하라.\n",
    "\n",
    "data = [100, 200, 300, 400, 500, 600] \n",
    "index = [\"08/01\", \"08/02\", \"08/03\", \"08/04\", \"08/05\", \"08/06\"] \n",
    "s = Series(data, index)"
   ]
  },
  {
   "cell_type": "code",
   "execution_count": null,
   "metadata": {},
   "outputs": [],
   "source": [
    "s.iloc[:3:1]"
   ]
  }
 ],
 "metadata": {
  "kernelspec": {
   "display_name": "yeardream",
   "language": "python",
   "name": "python3"
  },
  "language_info": {
   "codemirror_mode": {
    "name": "ipython",
    "version": 3
   },
   "file_extension": ".py",
   "mimetype": "text/x-python",
   "name": "python",
   "nbconvert_exporter": "python",
   "pygments_lexer": "ipython3",
   "version": "3.12.1"
  }
 },
 "nbformat": 4,
 "nbformat_minor": 2
}
