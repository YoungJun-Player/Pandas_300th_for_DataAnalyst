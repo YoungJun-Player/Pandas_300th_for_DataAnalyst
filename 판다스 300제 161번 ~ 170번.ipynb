{
 "cells": [
  {
   "cell_type": "code",
   "execution_count": 2,
   "metadata": {},
   "outputs": [],
   "source": [
    "import numpy as np"
   ]
  },
  {
   "cell_type": "markdown",
   "metadata": {},
   "source": [
    "# 161\n",
    "\n",
    "DataFrame.groupby mean\n",
    "\n",
    "다음 데이터프레임에서 테마별 PER, PBR의 평균을 계산하세요.\n",
    "\n",
    "data = [\n",
    "    [\"2차전지(생산)\", \"SK이노베이션\", 10.19, 1.29],\n",
    "    [\"해운\", \"팬오션\", 21.23, 0.95],\n",
    "    [\"시스템반도체\", \"티엘아이\", 35.97, 1.12],\n",
    "    [\"해운\", \"HMM\", 21.52, 3.20],\n",
    "    [\"시스템반도체\", \"아이에이\", 37.32, 3.55],\n",
    "    [\"2차전지(생산)\", \"LG화학\", 83.06, 3.75]\n",
    "]\n",
    "\n",
    "columns = [\"테마\", \"종목명\", \"PER\", \"PBR\"]\n",
    "df = pd.DataFrame(data=data, columns=columns)"
   ]
  },
  {
   "cell_type": "code",
   "execution_count": null,
   "metadata": {},
   "outputs": [],
   "source": [
    "df.groupby(by='테마').mean()"
   ]
  },
  {
   "cell_type": "markdown",
   "metadata": {},
   "source": [
    "# 162\n",
    "\n",
    "DataFrame.groupby max, min\n",
    "\n",
    "위 데이터프레임에서 테마별 PER, PBR의 최대, 최소값을 계산하세요.\n",
    "\n",
    "data = [\n",
    "    [\"2차전지(생산)\", \"SK이노베이션\", 10.19, 1.29],\n",
    "    [\"해운\", \"팬오션\", 21.23, 0.95],\n",
    "    [\"시스템반도체\", \"티엘아이\", 35.97, 1.12],\n",
    "    [\"해운\", \"HMM\", 21.52, 3.20],\n",
    "    [\"시스템반도체\", \"아이에이\", 37.32, 3.55],\n",
    "    [\"2차전지(생산)\", \"LG화학\", 83.06, 3.75]\n",
    "]\n",
    "\n",
    "columns = [\"테마\", \"종목명\", \"PER\", \"PBR\"]\n",
    "df = pd.DataFrame(data=data, columns=columns)"
   ]
  },
  {
   "cell_type": "code",
   "execution_count": 11,
   "metadata": {},
   "outputs": [],
   "source": [
    "df.groupby(by='테마').max()\n",
    "df.groupby(by='테마').min()"
   ]
  },
  {
   "cell_type": "markdown",
   "metadata": {},
   "source": [
    "# 163\n",
    "\n",
    "DataFrame.groupby size\n",
    "\n",
    "위 데이터프레임에서 테마별 종목의 개수를 계산하세요."
   ]
  },
  {
   "cell_type": "code",
   "execution_count": 12,
   "metadata": {},
   "outputs": [],
   "source": [
    "df.groupby(by='테마').size()"
   ]
  },
  {
   "cell_type": "markdown",
   "metadata": {},
   "source": [
    "# 164\n",
    "\n",
    "DataFrame.groupby get_group\n",
    "\n",
    "위 데이터프레임을 '테마' 컬럼으로 그룹핑한 후 '2차전지(생산)' 그룹만 가져오세요."
   ]
  },
  {
   "cell_type": "code",
   "execution_count": 13,
   "metadata": {},
   "outputs": [],
   "source": [
    "a = df.groupby(by='테마')\n",
    "a.get_group('2차전지(생산')"
   ]
  },
  {
   "cell_type": "markdown",
   "metadata": {},
   "source": [
    "# 165\n",
    "\n",
    "DataFrame groupby\n",
    "\n",
    "위 데이터프레임에서 테마별 PER의 평균을 계산하세요."
   ]
  },
  {
   "cell_type": "code",
   "execution_count": 15,
   "metadata": {},
   "outputs": [],
   "source": [
    "a = df.groupby(by='테마')\n",
    "a.get_group('per').mean()"
   ]
  },
  {
   "cell_type": "markdown",
   "metadata": {},
   "source": [
    "# 166\n",
    "\n",
    "DataFrame.groupby 슬라이싱\n",
    "\n",
    "위 데이터프레임에 대해 테마로 그룹화한 후 PER, PBR 컬럼을 슬라이싱하세요. 그 다음 두 컬럼에 대한 평균을 계산하세요."
   ]
  },
  {
   "cell_type": "code",
   "execution_count": null,
   "metadata": {},
   "outputs": [],
   "source": [
    "df.groupby(\"테마\")<a class=\"wiki_link\" data-title=\"PER\", \"PBR\" data-wiki=\"/page/wiki/PER\", \"PBR\" href=\"javascript:void(0)\">PER\", \"PBR</a>.mean()"
   ]
  },
  {
   "cell_type": "markdown",
   "metadata": {},
   "source": [
    "# 167\n",
    "\n",
    "DataFrame.groupby agg\n",
    "\n",
    "위 데이터프레임에 대해서 '테마' 컬럼으로 그룹화한 후 max 함수를 적용하세요."
   ]
  },
  {
   "cell_type": "code",
   "execution_count": null,
   "metadata": {},
   "outputs": [],
   "source": [
    "df.groupby(\"테마\").agg(max)"
   ]
  },
  {
   "cell_type": "markdown",
   "metadata": {},
   "source": [
    "# 168\n",
    "\n",
    "DataFrame.groupby agg\n",
    "\n",
    "위 데이터프레임에 대해서 '테마' 컬럼으로 그룹화한 후 PER 컬럼은 max, PBR 컬럼은 min 함수를 적용해보세요."
   ]
  },
  {
   "cell_type": "code",
   "execution_count": null,
   "metadata": {},
   "outputs": [],
   "source": [
    "df.groupby(\"테마\").agg({\"PER\": max, \"PBR\": min})"
   ]
  },
  {
   "cell_type": "markdown",
   "metadata": {},
   "source": [
    "# 169\n",
    "\n",
    "Group 순회\n",
    "\n",
    "위 데이터프레임에 대해 '테마'로 그룹화 한 후 순회하는 다음 코드를 실행하고 결과를 확인하세요.\n",
    "\n",
    "for name, group in df.groupby(\"테마\"):\n",
    "    print(name)\n",
    "    print(group)"
   ]
  },
  {
   "cell_type": "code",
   "execution_count": null,
   "metadata": {},
   "outputs": [],
   "source": []
  },
  {
   "cell_type": "markdown",
   "metadata": {},
   "source": [
    "# 170\n",
    "\n",
    "groupby agg\n",
    "\n",
    "위 데이터프레임에 대해서 '테마' 컬럼으로 그룹화한 후 PER, PBR 컬럼에 np.mean과 np.std 함수를 적용하세요."
   ]
  },
  {
   "cell_type": "code",
   "execution_count": null,
   "metadata": {},
   "outputs": [],
   "source": [
    "df.groupby(\"테마\")[['per','pbr']].agg([np.mean,np.std],)"
   ]
  }
 ],
 "metadata": {
  "kernelspec": {
   "display_name": "yeardream",
   "language": "python",
   "name": "python3"
  },
  "language_info": {
   "codemirror_mode": {
    "name": "ipython",
    "version": 3
   },
   "file_extension": ".py",
   "mimetype": "text/x-python",
   "name": "python",
   "nbconvert_exporter": "python",
   "pygments_lexer": "ipython3",
   "version": "3.9.19"
  }
 },
 "nbformat": 4,
 "nbformat_minor": 2
}
