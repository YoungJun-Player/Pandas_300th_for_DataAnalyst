{
 "cells": [
  {
   "cell_type": "markdown",
   "metadata": {},
   "source": [
    "# 001\n",
    "\n",
    "넘파이 임포트\n",
    "\n",
    "넘파이 모듈을 np라는 이름으로 임포트해보세요."
   ]
  },
  {
   "cell_type": "code",
   "execution_count": 1,
   "metadata": {},
   "outputs": [],
   "source": [
    "import numpy as np"
   ]
  },
  {
   "cell_type": "markdown",
   "metadata": {},
   "source": [
    "# 002\n",
    "\n",
    "ndarray\n",
    "\n",
    "리스트를 넘파이의 ndarray 객체로 변환해보세요.\n",
    "\n",
    "data = [1, 2, 3]"
   ]
  },
  {
   "cell_type": "code",
   "execution_count": 2,
   "metadata": {},
   "outputs": [],
   "source": [
    "data = [1, 2, 3]\n",
    "\n",
    "arr = np.array(data)"
   ]
  },
  {
   "cell_type": "markdown",
   "metadata": {},
   "source": [
    "# 003\n",
    "\n",
    "arange\n",
    "\n",
    "0부터 99까지의 정수가 저장된 ndarray 객체를 만들어 보세요"
   ]
  },
  {
   "cell_type": "code",
   "execution_count": 3,
   "metadata": {},
   "outputs": [],
   "source": [
    "arr = np.arange(100)"
   ]
  },
  {
   "cell_type": "markdown",
   "metadata": {},
   "source": [
    "# 004\n",
    "\n",
    "arange\n",
    "\n",
    "구구단 3단의 결과가 저장된 ndarray 객체를 만들어 보세요.\n",
    "\n",
    "> arr\n",
    "[ 3  6  9 12 15 18 21 24 27]"
   ]
  },
  {
   "cell_type": "code",
   "execution_count": 4,
   "metadata": {},
   "outputs": [],
   "source": [
    "\n",
    "arr = np.arange(1,10)*3"
   ]
  },
  {
   "cell_type": "markdown",
   "metadata": {},
   "source": [
    "# 005\n",
    "\n",
    "arange\n",
    "\n",
    "1000보다 작은 짝수가 저장된 ndarray 객체를 만들어 보세요.\n",
    "\n"
   ]
  },
  {
   "cell_type": "code",
   "execution_count": 5,
   "metadata": {},
   "outputs": [],
   "source": [
    "arr = np.arange(2,1000,2)"
   ]
  },
  {
   "cell_type": "markdown",
   "metadata": {},
   "source": [
    "# 006\n",
    "\n",
    "실수 range\n",
    "\n",
    "0부터 1까지 0.1 간격으로 구성된 ndarray를 생성해보세요. 1은 포함되지 않습니다."
   ]
  },
  {
   "cell_type": "code",
   "execution_count": 6,
   "metadata": {},
   "outputs": [],
   "source": [
    "arr = np.arange(0,1,0.1)"
   ]
  },
  {
   "cell_type": "markdown",
   "metadata": {},
   "source": [
    "# 007\n",
    "\n",
    "reshape\n",
    "\n",
    "리스트에는 6개의 데이터가 저장돼 있습니다.\n",
    "\n",
    "data = [0, 1, 2, 3, 4, 5]\n",
    "\n",
    "다음과 같이 2행 3열의 ndarray로 변환하세요.\n",
    "\n",
    "[[0 1 2]\n",
    " [3 4 5]]\n"
   ]
  },
  {
   "cell_type": "code",
   "execution_count": 9,
   "metadata": {},
   "outputs": [],
   "source": [
    "data = [0, 1, 2, 3, 4, 5]\n",
    "\n",
    "arr = np.array(data).reshape(2,3)"
   ]
  },
  {
   "cell_type": "markdown",
   "metadata": {},
   "source": [
    "# 008\n",
    "\n",
    "reshape\n",
    "\n",
    "다음의 2차원 ndarray 1차원 ndarray로 변환하세요.\n",
    "\n",
    "arr = np.array([\n",
    "    [0, 1, 2],\n",
    "    [3, 4, 5]\n",
    "])"
   ]
  },
  {
   "cell_type": "code",
   "execution_count": 10,
   "metadata": {},
   "outputs": [
    {
     "data": {
      "text/plain": [
       "array([0, 1, 2, 3, 4, 5])"
      ]
     },
     "execution_count": 10,
     "metadata": {},
     "output_type": "execute_result"
    }
   ],
   "source": [
    "arr = np.array([\n",
    "    [0, 1, 2],\n",
    "    [3, 4, 5]\n",
    "])\n",
    "\n",
    "arr.reshape(6)"
   ]
  },
  {
   "cell_type": "markdown",
   "metadata": {},
   "source": [
    "# 009\n",
    "\n",
    "reshape\n",
    "\n",
    "주어진 ndarray를 다음과 같이 변경해 보세요.\n",
    "\n",
    "arr = np.arange(3)\n",
    "\n",
    "[[0]\n",
    " [1]\n",
    " [2]]"
   ]
  },
  {
   "cell_type": "code",
   "execution_count": 11,
   "metadata": {},
   "outputs": [
    {
     "data": {
      "text/plain": [
       "array([[0],\n",
       "       [1],\n",
       "       [2]])"
      ]
     },
     "execution_count": 11,
     "metadata": {},
     "output_type": "execute_result"
    }
   ],
   "source": [
    "arr = np.arange(3)\n",
    "\n",
    "arr.reshape(3,1)"
   ]
  },
  {
   "cell_type": "markdown",
   "metadata": {},
   "source": [
    "# 010\n",
    "\n",
    "에러의 원인\n",
    "\n",
    "에러의 원인을 설명하세요.\n",
    "\n",
    "> np.arange(6).reshape(2, 4)\n",
    "ValueError: cannot reshape array of size 6 into shape (2,4)\n"
   ]
  },
  {
   "cell_type": "markdown",
   "metadata": {},
   "source": [
    "정답 : 데이터는 6개인데 8개를 호출하려함"
   ]
  }
 ],
 "metadata": {
  "kernelspec": {
   "display_name": "yeardream",
   "language": "python",
   "name": "python3"
  },
  "language_info": {
   "codemirror_mode": {
    "name": "ipython",
    "version": 3
   },
   "file_extension": ".py",
   "mimetype": "text/x-python",
   "name": "python",
   "nbconvert_exporter": "python",
   "pygments_lexer": "ipython3",
   "version": "3.9.19"
  }
 },
 "nbformat": 4,
 "nbformat_minor": 2
}
