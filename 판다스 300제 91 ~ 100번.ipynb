{
 "cells": [
  {
   "cell_type": "code",
   "execution_count": null,
   "metadata": {},
   "outputs": [],
   "source": [
    "import numpy as np\n",
    "import pandas as pd"
   ]
  },
  {
   "cell_type": "markdown",
   "metadata": {},
   "source": [
    "# 091\n",
    "\n",
    "시리즈 정렬\n",
    "\n",
    "시리즈에 저장된 데이터의 순서를 변경하라.\n",
    "\n",
    "data = [100, 300, 200]\n",
    "index = [\"08/01\", \"08/02\", \"08/03\"]\n",
    "s = Series(data, index)\n",
    "\n",
    "08/01    100\n",
    "08/03    200\n",
    "08/02    300\n",
    "dtype: int64"
   ]
  },
  {
   "cell_type": "code",
   "execution_count": null,
   "metadata": {},
   "outputs": [],
   "source": [
    "s.iloc[[0,2,1]]"
   ]
  },
  {
   "cell_type": "markdown",
   "metadata": {},
   "source": [
    "# 092\n",
    "\n",
    "시리즈 정렬\n",
    "\n",
    "시리즈에 저장된 데이터를 오름차순 혹은 내림차순으로 정렬하라.\n",
    "\n",
    "randint 함수는 지정된 범위 (10)에서 임의의 숫자를 생성해서 numpy의 ndarray 객체로 반환 합니다. 실행할 때마다 다른 값이 출력되는데, 이는 정상입니다.\n",
    "\n",
    "import numpy as np\n",
    "\n",
    "data = np.random.randint(10, size=4)\n",
    "s = Series(data)\n",
    "3    0\n",
    "2    5\n",
    "1    7\n",
    "0    9\n",
    "dtype: int32"
   ]
  },
  {
   "cell_type": "code",
   "execution_count": 11,
   "metadata": {},
   "outputs": [],
   "source": [
    "s.sort_value() #오름차순\n",
    "s.sort_value(ascending = False) #내림차순"
   ]
  },
  {
   "cell_type": "markdown",
   "metadata": {},
   "source": [
    "# 093\n",
    "\n",
    "시리즈 정렬\n",
    "인덱스를 기준으로 a, b, c 순서로 데이터를 정렬하라.\n",
    "\n",
    "s = Series(np.random.randint(10, size=4), [\"b\", \"c\", \"a\", \"d\"])\n",
    "a    3\n",
    "b    3\n",
    "c    1\n",
    "d    4\n",
    "dtype: int32"
   ]
  },
  {
   "cell_type": "code",
   "execution_count": 12,
   "metadata": {},
   "outputs": [],
   "source": [
    "s.sort_index()"
   ]
  },
  {
   "cell_type": "markdown",
   "metadata": {},
   "source": [
    "# 094\n",
    "\n",
    "시리즈 연산\n",
    "\n",
    "시리즈에 네 제곱한 결과를 시리즈로 출력하라.\n",
    "\n",
    "data = [100, 300, 200]\n",
    "s = Series(data)"
   ]
  },
  {
   "cell_type": "code",
   "execution_count": 13,
   "metadata": {},
   "outputs": [],
   "source": [
    "data**4"
   ]
  },
  {
   "cell_type": "markdown",
   "metadata": {},
   "source": [
    "# 095\n",
    "\n",
    "시리즈 덧셈\n",
    "\n",
    "다음 연산의 결과를 예측하라.\n",
    "\n",
    "data = [100, 300, 200]\n",
    "s0 = Series(data, [\"a\", \"b\", \"c\"])\n",
    "s1 = Series(data, [\"a\", \"c\", \"b\"])\n",
    "print(s0 + s1)\n"
   ]
  },
  {
   "cell_type": "code",
   "execution_count": 15,
   "metadata": {},
   "outputs": [],
   "source": [
    "200, 500, 500"
   ]
  },
  {
   "cell_type": "markdown",
   "metadata": {},
   "source": [
    "# 096\n",
    "\n",
    "시리즈 뺄셈\n",
    "\n",
    "다음 연산의 결과를 예측하고 그 원인을 설명하라.\n",
    "\n",
    "high = Series(data=[51500, 51200, 52500], index=[\"5/1\", \"5/2\", \"5/3\"])\n",
    "low = Series(data=[50700, 50500, 50500], index=[\"5/1\", \"5/2\", \"5/4\"])\n",
    "\n",
    "diff = high – low\n",
    "print(diff)"
   ]
  },
  {
   "cell_type": "code",
   "execution_count": null,
   "metadata": {},
   "outputs": [],
   "source": [
    "5/1 | 50700 | \n",
    "| 5/2 | 505 00 | \n",
    "| 5/3 | NaN | \n",
    "| 5/4 | NaN | "
   ]
  },
  {
   "cell_type": "markdown",
   "metadata": {},
   "source": [
    "# 097\n",
    "\n",
    "시리즈의 비교연산\n",
    "\n",
    "시리즈에서 52000보다 작은 값을 출력하라.\n",
    "\n",
    "s = Series(data=[51500, 51200, 52500], index=[\"5/1\", \"5/2\", \"5/3\"])"
   ]
  },
  {
   "cell_type": "code",
   "execution_count": null,
   "metadata": {},
   "outputs": [],
   "source": [
    "s[s<52000]"
   ]
  },
  {
   "cell_type": "markdown",
   "metadata": {},
   "source": [
    "# 098\n",
    "\n",
    "시리즈 비교연산\n",
    "\n",
    "5월 1일 이후의 데이터를 출력하라.\n",
    "\n",
    "s = Series(data=[51500, 51200, 52500], index=[\"5/1\", \"5/2\", \"5/3\"])"
   ]
  },
  {
   "cell_type": "code",
   "execution_count": null,
   "metadata": {},
   "outputs": [],
   "source": [
    "a = s.index >\"5/1\"\n",
    "s.loc[a]"
   ]
  },
  {
   "cell_type": "markdown",
   "metadata": {},
   "source": [
    "# 099\n",
    "\n",
    "시리즈 비교연산\n",
    "\n",
    "51400원 이상 53000 이하의 값을 출력하라.\n",
    "\n",
    "s = Series(data=[51500, 51200, 52500], index=[\"5/1\", \"5/2\", \"5/3\"])"
   ]
  },
  {
   "cell_type": "code",
   "execution_count": null,
   "metadata": {},
   "outputs": [],
   "source": [
    "s[51400<=s<=53000]"
   ]
  },
  {
   "cell_type": "markdown",
   "metadata": {},
   "source": [
    "# 100\n",
    "\n",
    "시리즈 비교연산\n",
    "\n",
    "시리즈에서 가격이 52000원 이하였던 날은 몇일인가?\n",
    "\n",
    "s = Series(data=[51500, 51200, 52500], index=[\"5/1\", \"5/2\", \"5/3\"])"
   ]
  },
  {
   "cell_type": "code",
   "execution_count": null,
   "metadata": {},
   "outputs": [],
   "source": [
    "a  = s <= 52000\n",
    "s[a]"
   ]
  }
 ],
 "metadata": {
  "kernelspec": {
   "display_name": "yeardream",
   "language": "python",
   "name": "python3"
  },
  "language_info": {
   "codemirror_mode": {
    "name": "ipython",
    "version": 3
   },
   "file_extension": ".py",
   "mimetype": "text/x-python",
   "name": "python",
   "nbconvert_exporter": "python",
   "pygments_lexer": "ipython3",
   "version": "3.12.1"
  }
 },
 "nbformat": 4,
 "nbformat_minor": 2
}
