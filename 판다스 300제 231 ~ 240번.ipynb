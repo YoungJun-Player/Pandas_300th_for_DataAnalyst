{
 "cells": [
  {
   "cell_type": "code",
   "execution_count": 2,
   "metadata": {},
   "outputs": [],
   "source": [
    "import numpy as np\n",
    "import pandas as pd\n",
    "from datetime import datetime"
   ]
  },
  {
   "cell_type": "markdown",
   "metadata": {},
   "source": [
    "# 231\n",
    "\n",
    "datetime\n",
    "\n",
    "다음과 같이 데이터프레임의 인덱스를 datetime 객체로 표현하세요.\n",
    "\n"
   ]
  },
  {
   "cell_type": "code",
   "execution_count": 1,
   "metadata": {},
   "outputs": [],
   "source": [
    "import pandas as pd\n",
    "from datetime import datetime\n",
    "\n",
    "data = {\n",
    "    \"카카오\": [np.nan, 221, 35], \n",
    "    \"NAVER\": [52, 47, 3],\n",
    "    \"삼성전자\": [17, 21, 13]\n",
    "}\n",
    "index = [datetime(2019, 12, 1), datetime(2020, 12, 1), datetime(2021, 12, 1)]\n",
    "df = pd.DataFrame(data=data, index=index)\n",
    "df"
   ]
  },
  {
   "cell_type": "markdown",
   "metadata": {},
   "source": [
    "# 232\n",
    "\n",
    "dtype\n",
    "\n",
    "다음 데이터프레임 인덱스의 타입을 확인하세요.\n",
    "\n",
    "import pandas as pd\n",
    "from datetime import datetime\n",
    "\n",
    "data = {\n",
    "    \"카카오\": [np.nan, 221, 35], \n",
    "    \"NAVER\": [52, 47, 3],\n",
    "    \"삼성전자\": [17, 21, 13]\n",
    "}\n",
    "index = [datetime(2019, 12, 1), datetime(2020, 12, 1), datetime(2021, 12, 1)]\n",
    "df = pd.DataFrame(data=data, index=index)"
   ]
  },
  {
   "cell_type": "code",
   "execution_count": 11,
   "metadata": {},
   "outputs": [],
   "source": [
    "df.index.dtype"
   ]
  },
  {
   "cell_type": "markdown",
   "metadata": {},
   "source": [
    "# 233\n",
    "\n",
    "Timestamp\n",
    "\n",
    "다음 데이터프레임의 0번째 인덱스의 타입을 확인하세요.\n",
    "\n",
    "import pandas as pd\n",
    "from datetime import datetime\n",
    "\n",
    "data = {\n",
    "    \"카카오\": [np.nan, 221, 35], \n",
    "    \"NAVER\": [52, 47, 3],\n",
    "    \"삼성전자\": [17, 21, 13]\n",
    "}\n",
    "index = [datetime(2019, 12, 1), datetime(2020, 12, 1), datetime(2021, 12, 1)]\n",
    "df = pd.DataFrame(data=data, index=index)"
   ]
  },
  {
   "cell_type": "code",
   "execution_count": 12,
   "metadata": {},
   "outputs": [],
   "source": [
    "print(df.index[0])"
   ]
  },
  {
   "cell_type": "markdown",
   "metadata": {},
   "source": [
    "# 234\n",
    "\n",
    "시계열 데이터 인덱싱\n",
    "\n",
    "다음 데이터프레임에서 2021년 데이터를 인덱싱하세요.\n",
    "\n",
    "import pandas as pd\n",
    "from datetime import datetime\n",
    "\n",
    "data = {\n",
    "    \"카카오\": [np.nan, 221, 35], \n",
    "    \"NAVER\": [52, 47, 3],\n",
    "    \"삼성전자\": [17, 21, 13]\n",
    "}\n",
    "index = [datetime(2019, 12, 1), datetime(2020, 12, 1), datetime(2021, 12, 1)]\n",
    "df = pd.DataFrame(data=data, index=index)"
   ]
  },
  {
   "cell_type": "code",
   "execution_count": 13,
   "metadata": {},
   "outputs": [],
   "source": [
    "df.loc[\"2021\"]"
   ]
  },
  {
   "cell_type": "markdown",
   "metadata": {},
   "source": [
    "# 235\n",
    "\n",
    "pandas.date_range\n",
    "\n",
    "판다스의 date_range 함수를 사용하여 \"2022-01-01\"부터 \"2022-12-31\"까지 일 단위의 시계열 인덱스를 생성하세요."
   ]
  },
  {
   "cell_type": "code",
   "execution_count": 15,
   "metadata": {},
   "outputs": [],
   "source": [
    "import pandas as pd\n",
    "\n",
    "dt_range = pd.date_range(start=\"2022-01-01\", end=\"2022-12-31\")\n",
    "dt_range"
   ]
  },
  {
   "cell_type": "markdown",
   "metadata": {},
   "source": [
    "# 236\n",
    "\n",
    "pandas.date_range\n",
    "\n",
    "date_range 함수를 사용하여 '2023-01-01'부터 31개의 일 단위 시계열을 생성하세요."
   ]
  },
  {
   "cell_type": "code",
   "execution_count": null,
   "metadata": {},
   "outputs": [],
   "source": [
    "import pandas as pd\n",
    "\n",
    "dt = pd.date_range(start=\"2023-01-01\", periods=31)"
   ]
  },
  {
   "cell_type": "markdown",
   "metadata": {},
   "source": [
    "# 237\n",
    "\n",
    "pandas date_range\n",
    "\n",
    "date_range 함수를 사용하여 '2023-01-01 09:00:00'으로부터 5일치의 시계열을 생성하세요."
   ]
  },
  {
   "cell_type": "code",
   "execution_count": null,
   "metadata": {},
   "outputs": [],
   "source": [
    "import pandas as pd\n",
    "\n",
    "pd.date_range(start=\"2023-01-01 09:00:00\", periods=5)"
   ]
  },
  {
   "cell_type": "markdown",
   "metadata": {},
   "source": [
    "# 238\n",
    "\n",
    "index.tz\n",
    "\n",
    "다음 데이터프레임 인덱스의 time zone을 출력하세요.\n",
    "\n",
    "import pyupbit\n",
    "df = pyupbit.get_ohlcv(\"KRW-BTC\")"
   ]
  },
  {
   "cell_type": "code",
   "execution_count": null,
   "metadata": {},
   "outputs": [],
   "source": [
    "print(df.index.tz)"
   ]
  },
  {
   "cell_type": "markdown",
   "metadata": {},
   "source": [
    "# 239\n",
    "\n",
    "UNIX time\n",
    "\n",
    "datetime 모듈로 현재 시간을 얻어온 후 이를 unix time으로 변환하세요."
   ]
  },
  {
   "cell_type": "code",
   "execution_count": null,
   "metadata": {},
   "outputs": [],
   "source": [
    "from datetime import datetime\n",
    "\n",
    "now = datetime.now()\n",
    "int(now.timestamp())"
   ]
  },
  {
   "cell_type": "markdown",
   "metadata": {},
   "source": [
    "# 240\n",
    "\n",
    "pandas.Timestamp\n",
    "\n",
    "datetime 객체 now를 Timestamp 타입으로 변환하고 이를 다시 datetime 타입으로 변환해보세요.\n",
    "\n",
    "from datetime import datetime\n",
    "\n",
    "now = datetime.now()"
   ]
  },
  {
   "cell_type": "code",
   "execution_count": null,
   "metadata": {},
   "outputs": [],
   "source": [
    "import pandas as pd\n",
    "ts = pd.Timestamp(now)\n",
    "ts.to_pydatetime()"
   ]
  }
 ],
 "metadata": {
  "kernelspec": {
   "display_name": "yeardream",
   "language": "python",
   "name": "python3"
  },
  "language_info": {
   "codemirror_mode": {
    "name": "ipython",
    "version": 3
   },
   "file_extension": ".py",
   "mimetype": "text/x-python",
   "name": "python",
   "nbconvert_exporter": "python",
   "pygments_lexer": "ipython3",
   "version": "3.12.1"
  }
 },
 "nbformat": 4,
 "nbformat_minor": 2
}
