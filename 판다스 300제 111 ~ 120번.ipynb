{
 "cells": [
  {
   "cell_type": "code",
   "execution_count": null,
   "metadata": {},
   "outputs": [],
   "source": [
    "import numpy as np\n",
    "import pandas as pd"
   ]
  },
  {
   "cell_type": "markdown",
   "metadata": {},
   "source": [
    "# 111\n",
    "\n",
    "count\n",
    "\n",
    "다음 시리즈 객체가 있을 때 null이 아닌 값의 개수를 출력하세요.\n",
    "\n",
    "import numpy as np\n",
    "from pandas import Series \n",
    "\n",
    "data = [1, 2, 3, 4, np.nan]\n",
    "s = Series(data=data)"
   ]
  },
  {
   "cell_type": "code",
   "execution_count": null,
   "metadata": {},
   "outputs": [],
   "source": [
    "s.isna().sum()"
   ]
  },
  {
   "cell_type": "markdown",
   "metadata": {},
   "source": [
    "# 112\n",
    "\n",
    "시리즈 데이터 타입 변경\n",
    "\n",
    "다음 시리즈 객체는 문자열 타입의 데이터가 저장돼 있습니다. 데이터 타입의 문자열로 저장된 경우 숫자와 사칙연산을 수행할 수 없습니다. 시리즈 객체의 데이터 타입을 숫자 타입으로 변경해보세요.\n",
    "\n",
    "data = [\"100\", \"200\", \"300\"]\n",
    "index = [\"철수\", \"영희\", \"아름\"]\n",
    "s = Series(data, index)"
   ]
  },
  {
   "cell_type": "code",
   "execution_count": 11,
   "metadata": {},
   "outputs": [],
   "source": [
    "s.astype('int')"
   ]
  },
  {
   "cell_type": "markdown",
   "metadata": {},
   "source": [
    "# 113\n",
    "\n",
    "시리즈 문자열 replace\n",
    "\n",
    "다음 시리즈 객체는 문자열 타입의 데이터가 저장돼 있습니다. str.replace 함수를 사용하여 컴마를 제거한 후 데이터를 'int32' 타입으로 변환해보세요.\n",
    "\n",
    "data = [\"100,000\", \"200,000\", \"300,000\"]\n",
    "index = [\"철수\", \"영희\", \"아름\"]\n",
    "s = Series(data, index)"
   ]
  },
  {
   "cell_type": "code",
   "execution_count": 12,
   "metadata": {},
   "outputs": [],
   "source": [
    "s.str.replace(\",\",\"\")\n",
    "s.astype('int32')"
   ]
  },
  {
   "cell_type": "markdown",
   "metadata": {},
   "source": [
    "# 114\n",
    "\n",
    "시리즈 문자열 인덱싱\n",
    "\n",
    "다음과 같은 시리즈 객체가 있을 때 values에서 '세'라는 문자열을 제거한 후 데이터를 'int32' 타입으로 변환해보세요.\n",
    "\n",
    ">> s = pd.Series([\"30세\", \"40세\", \"50세\"], index=[\"김대리\", \"이과장\", \"박차장\"])\n",
    ">> print(s)\n",
    "\n",
    "김대리    30세\n",
    "이과장    40세\n",
    "박차장    50세\n",
    "dtype: object"
   ]
  },
  {
   "cell_type": "code",
   "execution_count": 13,
   "metadata": {},
   "outputs": [],
   "source": [
    "s.str.replace(\"세\",\"\")\n",
    "s.astype('int32')"
   ]
  },
  {
   "cell_type": "markdown",
   "metadata": {},
   "source": [
    "# 115\n",
    "\n",
    "reindex\n",
    "\n",
    "다음 시리즈 객체의 인덱스를 ['a', 'b', 'c', 'd']로 재정렬하세요.\n",
    "\n",
    "import pandas as pd\n",
    "\n",
    "s = pd.Series([1, 2, 3, 4], index=[\"d\", \"c\", \"a\", \"b\"])\n",
    "s\n"
   ]
  },
  {
   "cell_type": "code",
   "execution_count": 15,
   "metadata": {},
   "outputs": [],
   "source": [
    "s.sort_index()"
   ]
  },
  {
   "cell_type": "markdown",
   "metadata": {},
   "source": [
    "# 116\n",
    "\n",
    "index 변경\n",
    "\n",
    "다음 시리즈 객체의 인덱스를 월-일 형태(년도 제거)로 변경하세요.\n",
    "\n",
    "import pandas as pd\n",
    "s = pd.Series([1, 2, 3], index=['2023-01-01', '2023-01-02', '2023-01-03'])"
   ]
  },
  {
   "cell_type": "code",
   "execution_count": null,
   "metadata": {},
   "outputs": [],
   "source": [
    "s.index.str[5:]"
   ]
  },
  {
   "cell_type": "markdown",
   "metadata": {},
   "source": [
    "# 117\n",
    "\n",
    "datetime\n",
    "\n",
    "다음 시리즈 객체의 인덱스를 datetime(Timestamp) 타입으로 변경하세요.\n",
    "\n",
    "import pandas as pd\n",
    "s = pd.Series([1, 2, 3], index=['2023-01-01', '2023-01-02', '2023-01-03'])"
   ]
  },
  {
   "cell_type": "code",
   "execution_count": null,
   "metadata": {},
   "outputs": [],
   "source": [
    "s.index = pd.to_timestamp(s.index)"
   ]
  },
  {
   "cell_type": "markdown",
   "metadata": {},
   "source": [
    "# 118\n",
    "\n",
    "dropna\n",
    "\n",
    "다음 시리즈 객체에서 NaN 값을 제거하세요.\n",
    "\n",
    "import pandas as pd\n",
    "\n",
    "s = pd.Series([1, 2, 3, np.nan])"
   ]
  },
  {
   "cell_type": "code",
   "execution_count": null,
   "metadata": {},
   "outputs": [],
   "source": [
    "s.dropna()"
   ]
  },
  {
   "cell_type": "markdown",
   "metadata": {},
   "source": [
    "# 119\n",
    "\n",
    "Series.map\n",
    "\n",
    "시리즈의 맵 메서드를 사용하여 시리즈 객체에서 콤마를 제거하세요.\n",
    "\n",
    "import panas as pd\n",
    "\n",
    "s = pd.Series([\"1,234\", \"5,678\", \"9,876\"])"
   ]
  },
  {
   "cell_type": "code",
   "execution_count": null,
   "metadata": {},
   "outputs": [],
   "source": [
    "def remove_comma( x ):\n",
    "    return x.replace(',', '')\n",
    "\n",
    "s.map( remove_comma )"
   ]
  },
  {
   "cell_type": "markdown",
   "metadata": {},
   "source": [
    "# 120\n",
    "\n",
    "Series.apply\n",
    "\n",
    "시리즈 객체의 apply 메서드를 사용하여 상용 로그(자연수 10을 밑으로 한 로그) 값을 구하세요.\n",
    "\n",
    "import pandas as pd\n",
    "\n",
    "s = pd.Series([10, 100, 1000])"
   ]
  },
  {
   "cell_type": "code",
   "execution_count": null,
   "metadata": {},
   "outputs": [],
   "source": [
    "s.apply(np.log10)"
   ]
  }
 ],
 "metadata": {
  "kernelspec": {
   "display_name": "yeardream",
   "language": "python",
   "name": "python3"
  },
  "language_info": {
   "codemirror_mode": {
    "name": "ipython",
    "version": 3
   },
   "file_extension": ".py",
   "mimetype": "text/x-python",
   "name": "python",
   "nbconvert_exporter": "python",
   "pygments_lexer": "ipython3",
   "version": "3.12.1"
  }
 },
 "nbformat": 4,
 "nbformat_minor": 2
}
