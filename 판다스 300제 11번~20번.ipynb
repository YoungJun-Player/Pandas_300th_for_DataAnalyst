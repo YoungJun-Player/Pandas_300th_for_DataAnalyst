{
 "cells": [
  {
   "cell_type": "code",
   "execution_count": 6,
   "metadata": {},
   "outputs": [],
   "source": [
    "import numpy as np"
   ]
  },
  {
   "cell_type": "markdown",
   "metadata": {},
   "source": [
    "# 011\n",
    "\n",
    "차원 배열\n",
    "\n",
    "다음과 같이 2차원 ndarray 객체를 정의하세요.\n",
    "\n",
    "[[0 1 2]\n",
    " [3 4 5]]"
   ]
  },
  {
   "cell_type": "code",
   "execution_count": 7,
   "metadata": {},
   "outputs": [],
   "source": [
    "arr = np.arange(6).reshape(2,3)"
   ]
  },
  {
   "cell_type": "markdown",
   "metadata": {},
   "source": [
    "# 012\n",
    "\n",
    "ones\n",
    "\n",
    "1이 20개 저장된 아래의 ndarray 객체를 만들어 보세요.\n",
    "\n",
    "[1 1 1 1 1 1 1 1 1 1 1 1 1 1 1 1 1 1 1 1]"
   ]
  },
  {
   "cell_type": "code",
   "execution_count": 9,
   "metadata": {},
   "outputs": [],
   "source": [
    "data = [1] * 20\n",
    "\n",
    "arr = np.array(data)"
   ]
  },
  {
   "cell_type": "markdown",
   "metadata": {},
   "source": [
    "# 013\n",
    "\n",
    "ones\n",
    "\n",
    "4행 5열로 저장된 아래의 ndarray 객체를 만들어 보세요.\n",
    "\n",
    "[[1 1 1 1 1]\n",
    " [1 1 1 1 1]\n",
    " [1 1 1 1 1]\n",
    " [1 1 1 1 1]]"
   ]
  },
  {
   "cell_type": "code",
   "execution_count": 10,
   "metadata": {},
   "outputs": [],
   "source": [
    "data = [1]*20\n",
    "\n",
    "arr = np.array(data).reshape(4,5)"
   ]
  },
  {
   "cell_type": "markdown",
   "metadata": {},
   "source": [
    "# 014\n",
    "\n",
    "ones\n",
    "\n",
    "255로 채워진 10X10 크기의 ndarray 객체를 생성하세요."
   ]
  },
  {
   "cell_type": "code",
   "execution_count": 11,
   "metadata": {},
   "outputs": [],
   "source": [
    "data = [255]*100\n",
    "\n",
    "arr = np.array(data).reshape(10,10)"
   ]
  },
  {
   "cell_type": "markdown",
   "metadata": {},
   "source": [
    "# 015\n",
    "\n",
    "zeros\n",
    "\n",
    "3x4 (행x열) 크기의 0으로 채워진 배열을 생생해보세요."
   ]
  },
  {
   "cell_type": "code",
   "execution_count": 12,
   "metadata": {},
   "outputs": [],
   "source": [
    "data = [0]*12\n",
    "\n",
    "arr = np.array(data).reshape(3,4)"
   ]
  },
  {
   "cell_type": "markdown",
   "metadata": {},
   "source": [
    "# 016\n",
    "\n",
    "dtype\n",
    "\n",
    "[1, 2, 3]을 np.int32 타입의 ndarray 배열로 생성하세요."
   ]
  },
  {
   "cell_type": "code",
   "execution_count": 13,
   "metadata": {},
   "outputs": [],
   "source": [
    "data = [1, 2, 3]\n",
    "\n",
    "arr = np.array(data, dtype = np.int32)"
   ]
  },
  {
   "cell_type": "markdown",
   "metadata": {},
   "source": [
    "# 017\n",
    "\n",
    "다음 배열의 데이터 타입을 확인해보세요.\n",
    "\n",
    "arr = np.array([1, 2, 3])"
   ]
  },
  {
   "cell_type": "code",
   "execution_count": 15,
   "metadata": {},
   "outputs": [
    {
     "data": {
      "text/plain": [
       "dtype('int64')"
      ]
     },
     "execution_count": 15,
     "metadata": {},
     "output_type": "execute_result"
    }
   ],
   "source": [
    "arr = np.array([1, 2, 3])\n",
    "\n",
    "arr.dtype"
   ]
  },
  {
   "cell_type": "markdown",
   "metadata": {},
   "source": [
    "# 018\n",
    "\n",
    "dtype\n",
    "\n",
    "다음 배열의 데이터 타입을 확인해보세요.\n",
    "\n",
    "arr = np.array(['1', '2', '3'])"
   ]
  },
  {
   "cell_type": "code",
   "execution_count": 16,
   "metadata": {},
   "outputs": [
    {
     "data": {
      "text/plain": [
       "dtype('<U1')"
      ]
     },
     "execution_count": 16,
     "metadata": {},
     "output_type": "execute_result"
    }
   ],
   "source": [
    "arr = np.array(['1', '2', '3'])\n",
    "\n",
    "arr.dtype"
   ]
  },
  {
   "cell_type": "markdown",
   "metadata": {},
   "source": [
    "# 019\n",
    "\n",
    "dtype\n",
    "\n",
    "다음 데이터를 np.int16 타입의 배열로 형변환하세요.\n",
    "\n",
    "arr = np.array([1, 2, 3])"
   ]
  },
  {
   "cell_type": "code",
   "execution_count": 17,
   "metadata": {},
   "outputs": [],
   "source": [
    "arr = np.array([1, 2, 3], dtype = np.int16)"
   ]
  },
  {
   "cell_type": "markdown",
   "metadata": {},
   "source": [
    "# 020\n",
    "\n",
    "데이터 타입\n",
    "\n",
    "300이 44로 출력되는 이유를 설명하세요.\n",
    "\n",
    "> a = np.array( [ 255, 300, 128], dtype=np.uint8 )\n",
    "> a\n",
    "[255  44 128]\n"
   ]
  },
  {
   "cell_type": "markdown",
   "metadata": {},
   "source": [
    "정답 : 8비트는 300까지 표현할 수 없기에 잘못된 값이 표출됨"
   ]
  }
 ],
 "metadata": {
  "kernelspec": {
   "display_name": "yeardream",
   "language": "python",
   "name": "python3"
  },
  "language_info": {
   "codemirror_mode": {
    "name": "ipython",
    "version": 3
   },
   "file_extension": ".py",
   "mimetype": "text/x-python",
   "name": "python",
   "nbconvert_exporter": "python",
   "pygments_lexer": "ipython3",
   "version": "3.9.19"
  }
 },
 "nbformat": 4,
 "nbformat_minor": 2
}
