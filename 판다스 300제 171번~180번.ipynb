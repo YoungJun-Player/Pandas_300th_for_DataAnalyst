{
 "cells": [
  {
   "cell_type": "code",
   "execution_count": 2,
   "metadata": {},
   "outputs": [],
   "source": [
    "import numpy as np\n",
    "import pandas as pd"
   ]
  },
  {
   "cell_type": "markdown",
   "metadata": {},
   "source": [
    "# 171\n",
    "\n",
    "pandas.merge\n",
    "\n",
    "판다스 merge 함수는 두개의 데이터프레임에서 공통 열 혹은 인덱스를 기준으로 병합합니다. 다음 df1과 df2를 'ID'라는 컬럼명을 기준으로 'inner' 방식으로 병합하세요.\n",
    "\n",
    "import pandas as pd\n",
    "\n",
    "data1 = {\n",
    "    'ID': [100, 101, 102, 103],\n",
    "    'Name': ['Brayden', 'Clara', 'Ella', 'Oliver']\n",
    "}\n",
    "\n",
    "data2 = [\n",
    "    [100, \"삼성전자\"],\n",
    "    [100, \"LG전자\"],\n",
    "    [101, \"카카오\"],\n",
    "    [101, \"NAVER\"],\n",
    "    [101, \"현대차\"]\n",
    "]\n",
    "\n",
    "df1 = pd.DataFrame(data1)\n",
    "df2 = pd.DataFrame(data=data2, columns=['ID', '종목명'])"
   ]
  },
  {
   "cell_type": "code",
   "execution_count": null,
   "metadata": {},
   "outputs": [],
   "source": [
    "pd.merge(df1,df2, how= inner, on='ID')"
   ]
  },
  {
   "cell_type": "markdown",
   "metadata": {},
   "source": [
    "# 172\n",
    "\n",
    "pandas.merge outer='outer'\n",
    "\n",
    "다음 df1과 df2를 'ID’라는 컬럼명을 기준으로 ‘outer’ 방식으로 병합하세요."
   ]
  },
  {
   "cell_type": "code",
   "execution_count": 11,
   "metadata": {},
   "outputs": [],
   "source": [
    "pd.merge(df1,df2, how= outer, on='ID')"
   ]
  },
  {
   "cell_type": "markdown",
   "metadata": {},
   "source": [
    "# 173\n",
    "\n",
    "pandas merge (left_on, right_on)\n",
    "\n",
    "다음 데이터프레임에서 df1의 'ID'와 df2의 '아이디' 컬럼을 기준으로 merge 하세요.\n",
    "\n",
    "import pandas as pd\n",
    "\n",
    "data1 = {\n",
    "    'ID': [100, 101, 102, 103],\n",
    "    'Name': ['Brayden', 'Clara', 'Ella', 'Oliver']\n",
    "}\n",
    "data2 = [\n",
    "    [100, \"삼성전자\"],\n",
    "    [100, \"LG전자\"],\n",
    "    [101, \"카카오\"],\n",
    "    [101, \"NAVER\"],\n",
    "    [101, \"현대차\"]\n",
    "]\n",
    "\n",
    "df1 = pd.DataFrame(data1)\n",
    "df2 = pd.DataFrame(data=data2, columns=['아이디', '종목명'])"
   ]
  },
  {
   "cell_type": "code",
   "execution_count": 12,
   "metadata": {},
   "outputs": [],
   "source": [
    "pd.merge(df1,df2, left_on='ID', right_on='ID')"
   ]
  },
  {
   "cell_type": "markdown",
   "metadata": {},
   "source": [
    "# 174\n",
    "\n",
    "pandas.merge (left_index, right_index)\n",
    "다음 데이터프레임에서 df1, df2의 인덱스를 기준으로 merge 하세요.\n",
    "\n",
    "import pandas as pd\n",
    "\n",
    "data1 = {\n",
    "    'ID': [100, 101, 102, 103],\n",
    "    'Name': ['Brayden', 'Clara', 'Ella', 'Oliver']\n",
    "}\n",
    "data2 = [\n",
    "    [100, \"삼성전자\"],\n",
    "    [100, \"LG전자\"],\n",
    "    [101, \"카카오\"],\n",
    "    [101, \"NAVER\"],\n",
    "    [101, \"현대차\"]\n",
    "]\n",
    "\n",
    "df1 = pd.DataFrame(data1)\n",
    "df1.set_index('ID', inplace=True)\n",
    "df2 = pd.DataFrame(data=data2, columns=['ID', '종목명'])\n",
    "df2.set_index('ID', inplace=True)"
   ]
  },
  {
   "cell_type": "code",
   "execution_count": 13,
   "metadata": {},
   "outputs": [],
   "source": [
    "pd.merge(df1,df2, left_index= True, right_index= True)"
   ]
  },
  {
   "cell_type": "markdown",
   "metadata": {},
   "source": [
    "# 175\n",
    "\n",
    "pandas.merge suffixes\n",
    "\n",
    "다음 df1, df2 데이터프레임을 'ID' 컬럼을 기준으로 merge하세요.\n",
    "\n",
    "import pandas as pd\n",
    "\n",
    "data1 = {\n",
    "    'ID': [100, 101, 102, 103],\n",
    "    'Data': ['Brayden', 'Clara', 'Ella', 'Oliver']\n",
    "}\n",
    "data2 = [\n",
    "    [100, \"삼성전자\"],\n",
    "    [100, \"LG전자\"],\n",
    "    [101, \"카카오\"],\n",
    "    [101, \"NAVER\"],\n",
    "    [101, \"현대차\"]\n",
    "]\n",
    "\n",
    "df1 = pd.DataFrame(data1)\n",
    "df2 = pd.DataFrame(data=data2, columns=['ID', 'Data'])"
   ]
  },
  {
   "cell_type": "code",
   "execution_count": 15,
   "metadata": {},
   "outputs": [],
   "source": [
    "pd.merge(df1,df2, on='ID')"
   ]
  },
  {
   "cell_type": "markdown",
   "metadata": {},
   "source": [
    "# 176\n",
    "\n",
    "pandas merge (suffixes)\n",
    "\n",
    "다음 df1, df2를 merge할 때 Data 컬럼에 '_name'과 '_item' 이라는 접미사를 붙여서 merge하세요.\n",
    "\n",
    "import pandas as pd\n",
    "\n",
    "data1 = {\n",
    "    'ID': [100, 101, 102, 103],\n",
    "    'Data': ['Brayden', 'Clara', 'Ella', 'Oliver']\n",
    "}\n",
    "data2 = [\n",
    "    [100, \"삼성전자\"],\n",
    "    [100, \"LG전자\"],\n",
    "    [101, \"카카오\"],\n",
    "    [101, \"NAVER\"],\n",
    "    [101, \"현대차\"]\n",
    "]\n",
    "\n",
    "df1 = pd.DataFrame(data1)\n",
    "df2 = pd.DataFrame(data=data2, columns=['ID', 'Data'])"
   ]
  },
  {
   "cell_type": "code",
   "execution_count": null,
   "metadata": {},
   "outputs": [],
   "source": [
    "pd.merge(df1,df2, on='ID', suffixes= ('_name','_item'))\n",
    "\n",
    "#merge 함수는 ID 컬럼을 기준으로 두 데이터프레임을 합치고, \n",
    "#겹치는 'Data' 컬럼에는 각각 '_name', '_item' 접미사를 붙여 구분합니다."
   ]
  },
  {
   "cell_type": "markdown",
   "metadata": {},
   "source": [
    "# 177\n",
    "\n",
    "DataFrame.join\n",
    "\n",
    "데이터프레임의 join 메서드를 사용해서 df1과 df2를 인덱스를 기준으로 how='inner'로 병합하세요.\n",
    "\n",
    "import pandas as pd\n",
    "\n",
    "data1 = {\n",
    "    'ID': [100, 101, 102, 103],\n",
    "    '이름': ['Brayden', 'Clara', 'Ella', 'Oliver']\n",
    "}\n",
    "data2 = [\n",
    "    [100, \"삼성전자\"],\n",
    "    [100, \"LG전자\"],\n",
    "    [101, \"카카오\"],\n",
    "    [101, \"NAVER\"],\n",
    "    [101, \"현대차\"]\n",
    "]\n",
    "\n",
    "df1 = pd.DataFrame(data1)\n",
    "df1.set_index('ID', inplace=True)\n",
    "df2 = pd.DataFrame(data=data2, columns=['ID', '종목명'])\n",
    "df2.set_index('ID', inplace=True)"
   ]
  },
  {
   "cell_type": "code",
   "execution_count": null,
   "metadata": {},
   "outputs": [],
   "source": [
    "df1.join(df2, how='inner')"
   ]
  },
  {
   "cell_type": "markdown",
   "metadata": {},
   "source": [
    "# 178\n",
    "\n",
    "DataFrame.join on\n",
    "\n",
    "다음 df1, df2의 데이터프레임에 대해서 join 메서드로 how='inner'로 병합하세요.\n",
    "\n",
    "import pandas as pd\n",
    "\n",
    "data1 = {\n",
    "    'ID': [100, 101, 102, 103],\n",
    "    '이름': ['Brayden', 'Clara', 'Ella', 'Oliver']\n",
    "}\n",
    "data2 = [\n",
    "    [100, \"삼성전자\"],\n",
    "    [100, \"LG전자\"],\n",
    "    [101, \"카카오\"],\n",
    "    [101, \"NAVER\"],\n",
    "    [101, \"현대차\"]\n",
    "]\n",
    "\n",
    "df1 = pd.DataFrame(data1)\n",
    "df2 = pd.DataFrame(data=data2, columns=['ID', '종목명'])\n",
    "df2.set_index('ID', inplace=True)"
   ]
  },
  {
   "cell_type": "code",
   "execution_count": null,
   "metadata": {},
   "outputs": [],
   "source": [
    "df1.join(df2, on='ID', how='inner')"
   ]
  },
  {
   "cell_type": "markdown",
   "metadata": {},
   "source": [
    "# 179\n",
    "\n",
    "DataFrame.join\n",
    "\n",
    "다음 df1과 df2에 대해서 set_index로 인덱스로 지정하고 join 메서드로 병합하세요.\n",
    "\n",
    "import pandas as pd\n",
    "\n",
    "data1 = {\n",
    "    'ID': [100, 101, 102, 103],\n",
    "    '이름': ['Brayden', 'Clara', 'Ella', 'Oliver']\n",
    "}\n",
    "data2 = [\n",
    "    [100, \"삼성전자\"],\n",
    "    [100, \"LG전자\"],\n",
    "    [101, \"카카오\"],\n",
    "    [101, \"NAVER\"],\n",
    "    [101, \"현대차\"]\n",
    "]\n",
    "\n",
    "df1 = pd.DataFrame(data1)\n",
    "df2 = pd.DataFrame(data=data2, columns=['ID', '종목명'])"
   ]
  },
  {
   "cell_type": "code",
   "execution_count": null,
   "metadata": {},
   "outputs": [],
   "source": [
    "df1.set_index(\"ID\").join(df2.set_index(\"ID\"), on='ID')"
   ]
  },
  {
   "cell_type": "markdown",
   "metadata": {},
   "source": [
    "# 180\n",
    "\n",
    "DataFrame.join (lsuffix, rsuffix)\n",
    "\n",
    "데이터프레임 join 메서드를 사용해서 병합하세요. 이때 lsuffix로 '_name'을 ruffix로 '_item'을 사용하세요.\n",
    "\n",
    "import pandas as pd\n",
    "\n",
    "data1 = {\n",
    "    'ID': [100, 101, 102, 103],\n",
    "    'Data': ['Brayden', 'Clara', 'Ella', 'Oliver']\n",
    "}\n",
    "data2 = [\n",
    "    [100, \"삼성전자\"],\n",
    "    [100, \"LG전자\"],\n",
    "    [101, \"카카오\"],\n",
    "    [101, \"NAVER\"],\n",
    "    [101, \"현대차\"]\n",
    "]\n",
    "\n",
    "df1 = pd.DataFrame(data1)\n",
    "df1.set_index('ID', inplace=True)\n",
    "df2 = pd.DataFrame(data=data2, columns=['ID', 'Data'])\n",
    "df2.set_index('ID', inplace=True)"
   ]
  },
  {
   "cell_type": "code",
   "execution_count": null,
   "metadata": {},
   "outputs": [],
   "source": [
    "df1.join(df2, lsuffix='_name', rsuffix='_item')"
   ]
  }
 ],
 "metadata": {
  "kernelspec": {
   "display_name": "yeardream",
   "language": "python",
   "name": "python3"
  },
  "language_info": {
   "codemirror_mode": {
    "name": "ipython",
    "version": 3
   },
   "file_extension": ".py",
   "mimetype": "text/x-python",
   "name": "python",
   "nbconvert_exporter": "python",
   "pygments_lexer": "ipython3",
   "version": "3.9.19"
  }
 },
 "nbformat": 4,
 "nbformat_minor": 2
}
